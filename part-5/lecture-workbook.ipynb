{
 "cells": [
  {
   "cell_type": "markdown",
   "id": "d0234198-ef29-415d-8b18-1625762f23ab",
   "metadata": {},
   "source": [
    "# Part 5: Statistical Analysis\n",
    "A quick tour through [`cabinetry`](https://github.com/scikit-hep/cabinetry)"
   ]
  },
  {
   "cell_type": "code",
   "execution_count": null,
   "id": "a18df09f-0293-45ae-bd7f-e9498626ed8c",
   "metadata": {},
   "outputs": [],
   "source": [
    "import copy\n",
    "import glob\n",
    "import json\n",
    "import pathlib\n",
    "\n",
    "import pyhf\n",
    "import cabinetry\n",
    "\n",
    "cabinetry.set_logging()\n",
    "\n",
    "import boost_histogram as bh\n",
    "import hist\n",
    "import numpy as np\n",
    "from pyhf.contrib.utils import download"
   ]
  },
  {
   "cell_type": "markdown",
   "id": "96a5baec-6001-4f18-a33d-1929219807c5",
   "metadata": {},
   "source": [
    "# Creating a statistical model"
   ]
  },
  {
   "cell_type": "markdown",
   "id": "375cc5f6-5a23-4c9f-a078-8ff0a8b4cbaa",
   "metadata": {},
   "source": [
    "### Defining the model"
   ]
  },
  {
   "cell_type": "code",
   "execution_count": null,
   "id": "855f18bb",
   "metadata": {},
   "outputs": [],
   "source": [
    "config = {\n",
    "   \"General\":{\n",
    "      \"Measurement\": \"minimal_example\",\n",
    "      \"POI\": \"Signal_norm\",              # parameter of interest, which we want to measure \n",
    "      \"InputPath\": \"input/{SamplePath}\", # where to find input data\n",
    "      \"HistogramFolder\": \"histograms/\"\n",
    "\n",
    "   }\n",
    "}"
   ]
  },
  {
   "cell_type": "code",
   "execution_count": null,
   "id": "d68a639c-32c7-44d6-854b-f362b3480d38",
   "metadata": {},
   "outputs": [],
   "source": [
    "config.update({\n",
    "   \"Regions\":[\n",
    "      {\n",
    "         \"Name\": \"Signal_region\",\n",
    "         \"Filter\": \"lep_charge > 0\",           # event selection \n",
    "         \"Variable\": \"jet_pt\",                 # which variable we bin histograms in\n",
    "         \"Binning\": [200, 300, 400, 500, 600]\n",
    "      }\n",
    "   ]\n",
    "})"
   ]
  },
  {
   "cell_type": "code",
   "execution_count": null,
   "id": "f2ccc354-efba-4616-8541-af22fd8244ce",
   "metadata": {},
   "outputs": [],
   "source": [
    "config.update({\n",
    "   \"Samples\":[\n",
    "      {\n",
    "         \"Name\": \"Data\",\n",
    "         \"Tree\": \"pseudodata\",\n",
    "         \"SamplePath\": \"data.root\",\n",
    "         \"Data\": True                       # observed data is handled differently, need to distinguish\n",
    "      },\n",
    "      {\n",
    "         \"Name\": \"Signal\",\n",
    "         \"Tree\": \"signal\",\n",
    "         \"SamplePath\": \"prediction.root\",\n",
    "         \"Weight\": \"weight\"                 # weights: Monte Carlo integration, simulation correction etc.\n",
    "      },\n",
    "      {\n",
    "         \"Name\": \"Background\",\n",
    "         \"Tree\": \"background\",\n",
    "         \"SamplePath\": \"prediction.root\",\n",
    "         \"Weight\": \"weight\"\n",
    "      }\n",
    "   ]\n",
    "})"
   ]
  },
  {
   "cell_type": "code",
   "execution_count": null,
   "id": "456acd07-d928-44a2-9065-e37037c568dd",
   "metadata": {},
   "outputs": [],
   "source": [
    "config.update({\"Systematics\": []})"
   ]
  },
  {
   "cell_type": "code",
   "execution_count": null,
   "id": "1f99436b-472f-49da-a8d3-1cc90ad5ec0b",
   "metadata": {},
   "outputs": [],
   "source": [
    "config.update({\n",
    "   \"NormFactors\":[\n",
    "      {\n",
    "         \"Name\": \"Signal_norm\",\n",
    "         \"Samples\": \"Signal\",    # we want this parameter to scale the signal\n",
    "         \"Nominal\": 1,\n",
    "         \"Bounds\": [-5, 10]\n",
    "      }\n",
    "   ]\n",
    "})"
   ]
  },
  {
   "cell_type": "code",
   "execution_count": null,
   "id": "b3ff3ef6-c30b-4eaa-b94a-2921b24cbb1f",
   "metadata": {},
   "outputs": [],
   "source": [
    "cabinetry.configuration.validate(config)"
   ]
  },
  {
   "cell_type": "code",
   "execution_count": null,
   "id": "33827777-6a3b-4284-aa4f-14ff0b3cc20e",
   "metadata": {},
   "outputs": [],
   "source": [
    "cabinetry.configuration.print_overview(config)"
   ]
  },
  {
   "cell_type": "markdown",
   "id": "01b4ee6d-742f-4404-915a-6e228fa2e31b",
   "metadata": {},
   "source": [
    "### Creating histograms"
   ]
  },
  {
   "cell_type": "code",
   "execution_count": null,
   "id": "e7015f9b-e9d7-41bd-b9fe-5e8817481fc2",
   "metadata": {},
   "outputs": [],
   "source": [
    "cabinetry.templates.build(config, method=\"uproot\")"
   ]
  },
  {
   "cell_type": "code",
   "execution_count": null,
   "id": "862f5cfb",
   "metadata": {},
   "outputs": [],
   "source": [
    "glob.glob(\"histograms/*\")"
   ]
  },
  {
   "cell_type": "markdown",
   "id": "9a60e180",
   "metadata": {},
   "source": [
    "#### Visualization"
   ]
  },
  {
   "cell_type": "code",
   "execution_count": null,
   "id": "e3260338-ccd7-4a4b-acbe-b29275677a5d",
   "metadata": {},
   "outputs": [],
   "source": [
    "_ = cabinetry.visualize.data_mc_from_histograms(config)"
   ]
  },
  {
   "cell_type": "markdown",
   "id": "f9bec4cc-73e6-4b6a-8b34-4a8c5e768356",
   "metadata": {},
   "source": [
    "### A more complex model: adding systematic uncertainties"
   ]
  },
  {
   "cell_type": "code",
   "execution_count": null,
   "id": "a4ef9b7a-504b-4a59-a49a-fad9f9891c80",
   "metadata": {},
   "outputs": [],
   "source": [
    "config.update({\n",
    "   \"Systematics\":[\n",
    "      {\n",
    "         \"Name\": \"Luminosity\",\n",
    "         \"Up\": {\"Normalization\": 0.05},\n",
    "         \"Down\": {\"Normalization\": -0.05},\n",
    "         \"Type\": \"Normalization\"\n",
    "      },\n",
    "      {\n",
    "         \"Name\":\"Modeling\",\n",
    "         \"Up\": {\"Tree\": \"background_varied\"},\n",
    "         \"Down\": {\"Symmetrize\": True},\n",
    "         \"Samples\": \"Background\",\n",
    "         \"Type\": \"NormPlusShape\"\n",
    "      },\n",
    "      {\n",
    "         \"Name\": \"WeightBasedModeling\",\n",
    "         \"Up\": {\"Weight\": \"weight_up\"},\n",
    "         \"Down\": {\"Weight\": \"0.7*weight\"},\n",
    "         \"Samples\": \"Background\",\n",
    "         \"Type\": \"NormPlusShape\"\n",
    "      }\n",
    "   ],\n",
    "})"
   ]
  },
  {
   "cell_type": "code",
   "execution_count": null,
   "id": "5c9d8c9e-0f07-4ba4-8fbc-99186b10800b",
   "metadata": {},
   "outputs": [],
   "source": [
    "cabinetry.templates.build(config, method=\"uproot\")"
   ]
  },
  {
   "cell_type": "code",
   "execution_count": null,
   "id": "915e27e2-9a11-4add-8a48-40cbcb4e94ef",
   "metadata": {},
   "outputs": [],
   "source": [
    "_ = cabinetry.visualize.templates(config)"
   ]
  },
  {
   "cell_type": "markdown",
   "id": "e155a6fe-74ed-4b8b-b270-d3e915281751",
   "metadata": {},
   "source": [
    "### Building a workspace"
   ]
  },
  {
   "cell_type": "code",
   "execution_count": null,
   "id": "c2d2f57b-8cbe-49a3-bd74-d01e7e88942a",
   "metadata": {},
   "outputs": [],
   "source": [
    "workspace_path = \"example_workspace.json\"\n",
    "spec = cabinetry.workspace.build(config)\n",
    "cabinetry.workspace.save(spec, workspace_path)"
   ]
  },
  {
   "cell_type": "code",
   "execution_count": null,
   "id": "da3ee968-125f-4e59-8540-50de9eeda76f",
   "metadata": {
    "tags": []
   },
   "outputs": [],
   "source": [
    "print(json.dumps(spec, sort_keys=True, indent=4))"
   ]
  },
  {
   "cell_type": "markdown",
   "id": "210e3dc9",
   "metadata": {},
   "source": [
    "### Model structure"
   ]
  },
  {
   "cell_type": "code",
   "execution_count": null,
   "id": "7d1e93b3",
   "metadata": {},
   "outputs": [],
   "source": [
    "cabinetry.visualize.modifier_grid(pyhf.Workspace(spec).model())"
   ]
  },
  {
   "cell_type": "markdown",
   "id": "5535de2e-8ccc-4ba5-a298-b6e5c5c91129",
   "metadata": {},
   "source": [
    "# Performing statistical inference with our model"
   ]
  },
  {
   "cell_type": "code",
   "execution_count": null,
   "id": "b4e51e3c-0a61-4bce-961b-19742a28db81",
   "metadata": {},
   "outputs": [],
   "source": [
    "model, data = cabinetry.model_utils.model_and_data(spec)"
   ]
  },
  {
   "cell_type": "code",
   "execution_count": null,
   "id": "de9e18fc-88e6-41dc-9a34-7162d5a6ecd8",
   "metadata": {},
   "outputs": [],
   "source": [
    "data"
   ]
  },
  {
   "cell_type": "markdown",
   "id": "6ec8e723-3c9e-4d31-8439-59919ad11d03",
   "metadata": {},
   "source": [
    "### Maximum likelihood estimate (MLE)"
   ]
  },
  {
   "cell_type": "code",
   "execution_count": null,
   "id": "4f023a2e-4599-4ee6-9dfd-6fa1c2ecef87",
   "metadata": {},
   "outputs": [],
   "source": [
    "fit_results = cabinetry.fit.fit(model, data)"
   ]
  },
  {
   "cell_type": "code",
   "execution_count": null,
   "id": "3d1a90b9-3005-4e53-aa99-ed754fa6af64",
   "metadata": {},
   "outputs": [],
   "source": [
    "for label, result, unc in zip(fit_results.labels, fit_results.bestfit, fit_results.uncertainty):\n",
    "    print(f\"{label}: {result:.3f} +/- {unc:.3f}\")"
   ]
  },
  {
   "cell_type": "code",
   "execution_count": null,
   "id": "8fe42034-b8f4-482c-9fe3-06f64b98c5a1",
   "metadata": {},
   "outputs": [],
   "source": [
    "cabinetry.visualize.pulls(fit_results, exclude=\"Signal_norm\")"
   ]
  },
  {
   "cell_type": "code",
   "execution_count": null,
   "id": "af402771-58ff-48b9-a185-1eb4c6c39f37",
   "metadata": {},
   "outputs": [],
   "source": [
    "cabinetry.visualize.correlation_matrix(fit_results, pruning_threshold=0.1)"
   ]
  },
  {
   "cell_type": "code",
   "execution_count": null,
   "id": "5c1efef8-1a0a-4c3a-b63f-a13eb50c4661",
   "metadata": {},
   "outputs": [],
   "source": [
    "model_pred = cabinetry.model_utils.prediction(model)\n",
    "figures = cabinetry.visualize.data_mc(model_pred, data, config=config)"
   ]
  },
  {
   "cell_type": "code",
   "execution_count": null,
   "id": "050370bc",
   "metadata": {},
   "outputs": [],
   "source": [
    "figures = cabinetry.visualize.data_mc(model_pred, data, config=config,\n",
    "                                      colors={\"Signal\": \"tomato\", \"Background\": \"navajowhite\"}, close_figure=True)\n",
    "ratio_panel = figures[0][\"figure\"].get_axes()[1]\n",
    "ratio_panel.set_xlabel(\"jet $p_T$\")\n",
    "figures[0][\"figure\"]  # show figure"
   ]
  },
  {
   "cell_type": "code",
   "execution_count": null,
   "id": "e91fd2ac",
   "metadata": {},
   "outputs": [],
   "source": [
    "_ = cabinetry.tabulate.yields(model_pred, data)"
   ]
  },
  {
   "cell_type": "code",
   "execution_count": null,
   "id": "40795267",
   "metadata": {},
   "outputs": [],
   "source": [
    "!cat tables/yields_per_bin_pre-fit.txt"
   ]
  },
  {
   "cell_type": "code",
   "execution_count": null,
   "id": "9233142b-eba5-4dc2-a5ba-60b3c0ae32e3",
   "metadata": {},
   "outputs": [],
   "source": [
    "model_pred_postfit = cabinetry.model_utils.prediction(model, fit_results=fit_results)\n",
    "_ = cabinetry.visualize.data_mc(model_pred_postfit, data, config=config)"
   ]
  },
  {
   "cell_type": "markdown",
   "id": "436761f9-3390-41b6-b379-294cb677be0b",
   "metadata": {},
   "source": [
    "### Expected sensitivity with the Asimov dataset"
   ]
  },
  {
   "cell_type": "code",
   "execution_count": null,
   "id": "4f3aa7af-6896-4702-8ed9-d271efdd2635",
   "metadata": {},
   "outputs": [],
   "source": [
    "asimov_data = cabinetry.model_utils.asimov_data(model)\n",
    "_ = cabinetry.fit.fit(model, asimov_data)"
   ]
  },
  {
   "cell_type": "markdown",
   "id": "b6bd9650-3eba-4a29-bd94-8f98c57ab674",
   "metadata": {},
   "source": [
    "### Beyond MLEs: discovery significance and parameter limits"
   ]
  },
  {
   "cell_type": "code",
   "execution_count": null,
   "id": "de33aecf-f941-4966-815a-f354454fefab",
   "metadata": {},
   "outputs": [],
   "source": [
    "significance_results = cabinetry.fit.significance(model, data)"
   ]
  },
  {
   "cell_type": "code",
   "execution_count": null,
   "id": "02b1f8d6-ec90-4273-9a42-d2edf9ad1c2f",
   "metadata": {},
   "outputs": [],
   "source": [
    "data_limit = [112, 129, 92, 63] + model.config.auxdata  # need auxiliary data as well\n",
    "limit_results = cabinetry.fit.limit(model, data_limit)\n",
    "cabinetry.visualize.limit(limit_results)"
   ]
  },
  {
   "cell_type": "markdown",
   "id": "0b1cacf9-93bb-4025-907d-10227344d132",
   "metadata": {},
   "source": [
    "# Exploring the statistical model of an ATLAS analysis"
   ]
  },
  {
   "cell_type": "code",
   "execution_count": null,
   "id": "f8ce2a88-c33b-4bd0-9145-1c0939b8f864",
   "metadata": {},
   "outputs": [],
   "source": [
    "download(\"https://www.hepdata.net/record/resource/1267798?view=true\", \"electroweakinos\")\n",
    "ATLAS_ws = pyhf.Workspace(json.load(open(\"electroweakinos/1Lbb-likelihoods-hepdata/BkgOnly.json\")))\n",
    "patchset = pyhf.PatchSet(json.load(open(\"electroweakinos/1Lbb-likelihoods-hepdata/patchset.json\")))\n",
    "ATLAS_ws = patchset.apply(ATLAS_ws, \"C1N2_Wh_hbb_700_400\")\n",
    "cabinetry.workspace.save(ATLAS_ws, \"electroweakinos.json\")"
   ]
  },
  {
   "cell_type": "code",
   "execution_count": null,
   "id": "4f0668ab-7874-478c-8820-4b32eb86b058",
   "metadata": {},
   "outputs": [],
   "source": [
    "!pyhf inspect electroweakinos.json | head -n 6"
   ]
  },
  {
   "cell_type": "code",
   "execution_count": null,
   "id": "1eed7e5c-9494-49a6-9ec0-6b74ea36bfd0",
   "metadata": {
    "scrolled": true,
    "tags": []
   },
   "outputs": [],
   "source": [
    "ATLAS_model, ATLAS_data = cabinetry.model_utils.model_and_data(ATLAS_ws)"
   ]
  },
  {
   "cell_type": "code",
   "execution_count": null,
   "id": "26267735-2a7d-4c5c-81e6-49a0d1da9572",
   "metadata": {},
   "outputs": [],
   "source": [
    "ATLAS_model_pred = cabinetry.model_utils.prediction(ATLAS_model)\n",
    "_ = cabinetry.visualize.data_mc(ATLAS_model_pred, ATLAS_data)"
   ]
  },
  {
   "cell_type": "code",
   "execution_count": null,
   "id": "3548fe2a-320f-467f-a0e4-eb861f823f2f",
   "metadata": {
    "scrolled": true,
    "tags": []
   },
   "outputs": [],
   "source": [
    "ATLAS_fit_results = cabinetry.fit.fit(ATLAS_model, ATLAS_data)"
   ]
  },
  {
   "cell_type": "code",
   "execution_count": null,
   "id": "add7f5dc-8291-4382-ad65-71350d870e9b",
   "metadata": {},
   "outputs": [],
   "source": [
    "cabinetry.visualize.pulls(ATLAS_fit_results)"
   ]
  }
 ],
 "metadata": {
  "kernelspec": {
   "display_name": "auth-tutorial-columnar-HEP",
   "language": "python",
   "name": "python3"
  },
  "language_info": {
   "codemirror_mode": {
    "name": "ipython",
    "version": 3
   },
   "file_extension": ".py",
   "mimetype": "text/x-python",
   "name": "python",
   "nbconvert_exporter": "python",
   "pygments_lexer": "ipython3",
   "version": "3.9.22"
  }
 },
 "nbformat": 4,
 "nbformat_minor": 5
}
