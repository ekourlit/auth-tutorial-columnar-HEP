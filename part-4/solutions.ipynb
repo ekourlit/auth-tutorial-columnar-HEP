{
 "cells": [
  {
   "cell_type": "markdown",
   "metadata": {},
   "source": [
    "# Part 4 project: Reconstructing the mass of the Higgs boson"
   ]
  },
  {
   "cell_type": "code",
   "execution_count": null,
   "metadata": {},
   "outputs": [],
   "source": [
    "# Import basic libraries\n",
    "import copy # copy variables\n",
    "import os   # manage paths\n",
    "import uproot   # use of root files\n",
    "import awkward as ak    # nested, variable sized data\n",
    "import vector   # lorentz vectors\n",
    "vector.register_awkward()\n",
    "import matplotlib.pyplot as plt # plotting\n",
    "import matplotlib as mpl # plotting\n",
    "import tqdm # progress bars\n",
    "import atlasopenmagic as atom # ATLAS Open Data package"
   ]
  },
  {
   "cell_type": "code",
   "execution_count": null,
   "metadata": {},
   "outputs": [],
   "source": [
    "atom.get_current_release()"
   ]
  },
  {
   "cell_type": "code",
   "execution_count": null,
   "metadata": {},
   "outputs": [],
   "source": [
    "urls_sample = atom.get_urls(345060, protocol='https')\n",
    "urls_sample[:5]"
   ]
  },
  {
   "cell_type": "code",
   "execution_count": null,
   "metadata": {},
   "outputs": [],
   "source": [
    "filename = urls_sample[0]\n",
    "filename"
   ]
  },
  {
   "cell_type": "code",
   "execution_count": null,
   "metadata": {},
   "outputs": [],
   "source": [
    "tree = uproot.open({filename: \"CollectionTree\"})"
   ]
  },
  {
   "cell_type": "code",
   "execution_count": null,
   "metadata": {},
   "outputs": [],
   "source": [
    "electrons = ak.zip(\n",
    "    {\n",
    "        \"pt\": tree[\"AnalysisElectronsAuxDyn.pt\"].array(),\n",
    "        \"eta\": tree[\"AnalysisElectronsAuxDyn.eta\"].array(),\n",
    "        \"phi\": tree[\"AnalysisElectronsAuxDyn.phi\"].array(),\n",
    "        \"m\": tree[\"AnalysisElectronsAuxDyn.m\"].array(),\n",
    "        \"charge\": tree[\"AnalysisElectronsAuxDyn.charge\"].array(),\n",
    "    }\n",
    ")\n",
    "\n",
    "muons = ak.zip(\n",
    "     {\n",
    "        \"pt\": tree[\"AnalysisMuonsAuxDyn.pt\"].array(),\n",
    "        \"eta\": tree[\"AnalysisMuonsAuxDyn.eta\"].array(),\n",
    "        \"phi\": tree[\"AnalysisMuonsAuxDyn.phi\"].array(),\n",
    "        \"charge\": tree[\"AnalysisMuonsAuxDyn.charge\"].array()\n",
    "    }\n",
    ")"
   ]
  },
  {
   "cell_type": "code",
   "execution_count": null,
   "metadata": {},
   "outputs": [],
   "source": [
    "events = ak.zip({\"Electrons\": electrons, \"Muons\": muons}, depth_limit=1)\n",
    "events"
   ]
  },
  {
   "cell_type": "code",
   "execution_count": null,
   "metadata": {},
   "outputs": [],
   "source": [
    "GeV = 1000.\n",
    "\n",
    "def selected_electrons(el):\n",
    "    return el[(el.pt > 20 * GeV) & (abs(el.eta) < 2.47)]\n",
    "\n",
    "def selected_muons(mu):\n",
    "    return mu[(mu.pt > 20 * GeV) & (abs(mu.eta) < 2.47)]"
   ]
  },
  {
   "cell_type": "code",
   "execution_count": null,
   "metadata": {},
   "outputs": [],
   "source": [
    "def processed(events):\n",
    "    events = copy.copy(events) # shallow copy\n",
    "    \n",
    "    events[\"Electrons\"] = vector.awk(events.Electrons)\n",
    "    events[\"Muons\"] = vector.awk(events.Muons)\n",
    "    \n",
    "    events[\"Electrons\"] = selected_electrons(events.Electrons)\n",
    "    events[\"Muons\"] = selected_muons(events.Muons)\n",
    "\n",
    "    events = events[\n",
    "        ( ak.num(events.Electrons) == 4 ) # exactly 4 electrons\n",
    "        & ( ak.num(events.Muons) == 0 ) # exactly 0 muons\n",
    "        & ( ak.sum(events.Electrons.charge, axis=-1) == 0 ) # sum electrons charge = 0\n",
    "    ]\n",
    "    \n",
    "    return ak.to_packed(events)"
   ]
  },
  {
   "cell_type": "code",
   "execution_count": null,
   "metadata": {},
   "outputs": [],
   "source": [
    "processed_events = processed(events)\n",
    "\n",
    "print(f'Initially we had {len(events):,} events. After the event selection we have {len(processed_events):,} events')"
   ]
  },
  {
   "cell_type": "code",
   "execution_count": null,
   "metadata": {},
   "outputs": [],
   "source": [
    "candidates = ak.combinations(processed_events.Electrons, 4, fields=['e1', 'e2', 'e3', 'e4'])\n",
    "higgs_candidate = (candidates.e1 + candidates.e2 + candidates.e3 + candidates.e4)"
   ]
  },
  {
   "cell_type": "code",
   "execution_count": null,
   "metadata": {},
   "outputs": [],
   "source": [
    "plt.hist(ak.flatten(higgs_candidate.mass/1000), range=(0, 200), bins = 100)\n",
    "plt.axvline(125, color='r', linestyle='dashed', linewidth=2, label='Expected Higgs Boson Mass')\n",
    "plt.xlabel(\"Reconstructed Higgs Boson Mass [GeV]\")\n",
    "plt.ylabel(\"Number of Events\")\n",
    "plt.title(\"Distribution of Reconstructed Higgs Boson Mass\")\n",
    "plt.legend()\n",
    "plt.show()"
   ]
  }
 ],
 "metadata": {
  "kernelspec": {
   "display_name": "auth-tutorial-columnar-HEP",
   "language": "python",
   "name": "python3"
  },
  "language_info": {
   "codemirror_mode": {
    "name": "ipython",
    "version": 3
   },
   "file_extension": ".py",
   "mimetype": "text/x-python",
   "name": "python",
   "nbconvert_exporter": "python",
   "pygments_lexer": "ipython3",
   "version": "3.9.22"
  }
 },
 "nbformat": 4,
 "nbformat_minor": 2
}
