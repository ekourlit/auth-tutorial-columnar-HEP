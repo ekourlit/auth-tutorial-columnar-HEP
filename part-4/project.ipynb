{
 "cells": [
  {
   "cell_type": "markdown",
   "metadata": {},
   "source": [
    "# Part 4 project: Reconstructing the mass of the Higgs boson"
   ]
  },
  {
   "cell_type": "code",
   "execution_count": 15,
   "metadata": {},
   "outputs": [],
   "source": [
    "# Import basic libraries\n",
    "import copy # copy variables\n",
    "import os   # manage paths\n",
    "import uproot   # use of root files\n",
    "import awkward as ak    # nested, variable sized data\n",
    "import vector   # lorentz vectors\n",
    "vector.register_awkward()\n",
    "import matplotlib.pyplot as plt # plotting\n",
    "import matplotlib as mpl # plotting\n",
    "import tqdm # progress bars\n",
    "import atlasopenmagic as atom # ATLAS Open Data package"
   ]
  },
  {
   "cell_type": "code",
   "execution_count": 16,
   "metadata": {},
   "outputs": [
    {
     "data": {
      "text/plain": [
       "'2024r-pp'"
      ]
     },
     "execution_count": 16,
     "metadata": {},
     "output_type": "execute_result"
    }
   ],
   "source": [
    "atom.get_current_release()"
   ]
  },
  {
   "cell_type": "code",
   "execution_count": 17,
   "metadata": {},
   "outputs": [
    {
     "data": {
      "text/plain": [
       "['https://opendata.cern.ch//eos/opendata/atlas/rucio/mc20_13TeV/DAOD_PHYSLITE.38191712._000001.pool.root.1',\n",
       " 'https://opendata.cern.ch//eos/opendata/atlas/rucio/mc20_13TeV/DAOD_PHYSLITE.38191712._000002.pool.root.1',\n",
       " 'https://opendata.cern.ch//eos/opendata/atlas/rucio/mc20_13TeV/DAOD_PHYSLITE.38191712._000005.pool.root.1',\n",
       " 'https://opendata.cern.ch//eos/opendata/atlas/rucio/mc20_13TeV/DAOD_PHYSLITE.38191712._000006.pool.root.1',\n",
       " 'https://opendata.cern.ch//eos/opendata/atlas/rucio/mc20_13TeV/DAOD_PHYSLITE.38191712._000007.pool.root.1']"
      ]
     },
     "execution_count": 17,
     "metadata": {},
     "output_type": "execute_result"
    }
   ],
   "source": [
    "urls_sample = atom.get_urls(345060, protocol='https')\n",
    "urls_sample[:5]"
   ]
  },
  {
   "cell_type": "code",
   "execution_count": 18,
   "metadata": {},
   "outputs": [
    {
     "data": {
      "text/plain": [
       "'https://opendata.cern.ch//eos/opendata/atlas/rucio/mc20_13TeV/DAOD_PHYSLITE.38191712._000001.pool.root.1'"
      ]
     },
     "execution_count": 18,
     "metadata": {},
     "output_type": "execute_result"
    }
   ],
   "source": [
    "filename = urls_sample[0]\n",
    "filename"
   ]
  },
  {
   "cell_type": "code",
   "execution_count": 19,
   "metadata": {},
   "outputs": [],
   "source": [
    "tree = uproot.open({filename: \"CollectionTree\"})"
   ]
  },
  {
   "cell_type": "code",
   "execution_count": 20,
   "metadata": {},
   "outputs": [],
   "source": [
    "electrons = ak.zip(\n",
    "    {\n",
    "        \"pt\": tree[\"AnalysisElectronsAuxDyn.pt\"].array(),\n",
    "        \"eta\": tree[\"AnalysisElectronsAuxDyn.eta\"].array(),\n",
    "        \"phi\": tree[\"AnalysisElectronsAuxDyn.phi\"].array(),\n",
    "        \"m\": tree[\"AnalysisElectronsAuxDyn.m\"].array(),\n",
    "        \"charge\": tree[\"AnalysisElectronsAuxDyn.charge\"].array(),\n",
    "    }\n",
    ")\n",
    "\n",
    "muons = ak.zip(\n",
    "     {\n",
    "        \"pt\": tree[\"AnalysisMuonsAuxDyn.pt\"].array(),\n",
    "        \"eta\": tree[\"AnalysisMuonsAuxDyn.eta\"].array(),\n",
    "        \"phi\": tree[\"AnalysisMuonsAuxDyn.phi\"].array(),\n",
    "        \"charge\": tree[\"AnalysisMuonsAuxDyn.charge\"].array()\n",
    "    }\n",
    ")"
   ]
  },
  {
   "cell_type": "code",
   "execution_count": 21,
   "metadata": {},
   "outputs": [
    {
     "data": {
      "text/html": [
       "<pre>[{Electrons: [{pt: 4.36e+04, ...}, ...], Muons: []},\n",
       " {Electrons: [], Muons: [{pt: ..., ...}, ...]},\n",
       " {Electrons: [{pt: 3.45e+04, ...}, ...], Muons: []},\n",
       " {Electrons: [{pt: 8.85e+04, ...}, ...], Muons: []},\n",
       " {Electrons: [{pt: 3.5e+04, ...}, ...], Muons: []},\n",
       " {Electrons: [{pt: 5.69e+04, ...}, ...], Muons: []},\n",
       " {Electrons: [{pt: 4.98e+03, ...}, ...], Muons: [{...}, ...]},\n",
       " {Electrons: [{pt: 3.39e+04, ...}], Muons: [{...}, ...]},\n",
       " {Electrons: [{pt: 2.83e+04, ...}, ...], Muons: []},\n",
       " {Electrons: [{pt: 4.34e+04, ...}, ...], Muons: []},\n",
       " ...,\n",
       " {Electrons: [], Muons: [{pt: ..., ...}, ...]},\n",
       " {Electrons: [{pt: 6.46e+04, ...}], Muons: [{...}, ...]},\n",
       " {Electrons: [{pt: 5.11e+04, ...}, ...], Muons: [{...}, ...]},\n",
       " {Electrons: [], Muons: [{pt: 1.9e+04, ...}, ...]},\n",
       " {Electrons: [{pt: 1.61e+04, ...}, ...], Muons: [{...}, ...]},\n",
       " {Electrons: [{pt: 6.93e+04, ...}, ...], Muons: [{...}, ...]},\n",
       " {Electrons: [], Muons: [{pt: ..., ...}, ...]},\n",
       " {Electrons: [{pt: 1.35e+04, ...}, ...], Muons: []},\n",
       " {Electrons: [{pt: 4.27e+04, ...}, ...], Muons: [{...}]}]\n",
       "--------------------------------------------------------------\n",
       "type: 50000 * {\n",
       "    Electrons: var * {\n",
       "        pt: float32,\n",
       "        eta: float32,\n",
       "        phi: float32,\n",
       "        m: float32,\n",
       "        charge: float32\n",
       "    },\n",
       "    Muons: var * {\n",
       "        pt: float32,\n",
       "        eta: float32,\n",
       "        phi: float32,\n",
       "        charge: float32\n",
       "    }\n",
       "}</pre>"
      ],
      "text/plain": [
       "<Array [{Electrons: [...], ...}, ..., {...}] type='50000 * {Electrons: var ...'>"
      ]
     },
     "execution_count": 21,
     "metadata": {},
     "output_type": "execute_result"
    }
   ],
   "source": [
    "events = ak.zip({\"Electrons\": electrons, \"Muons\": muons}, depth_limit=1)\n",
    "events"
   ]
  },
  {
   "cell_type": "code",
   "execution_count": 22,
   "metadata": {},
   "outputs": [],
   "source": [
    "GeV = 1000.\n",
    "\n",
    "def selected_electrons(el):\n",
    "    return el[(el.pt > 20 * GeV) & (abs(el.eta) < 2.47)]\n",
    "\n",
    "def selected_muons(mu):\n",
    "    return mu[(mu.pt > 20 * GeV) & (abs(mu.eta) < 2.47)]"
   ]
  },
  {
   "cell_type": "code",
   "execution_count": 23,
   "metadata": {},
   "outputs": [],
   "source": [
    "def processed(events):\n",
    "    events = copy.copy(events) # shallow copy\n",
    "    \n",
    "    events[\"Electrons\"] = vector.awk(events.Electrons)\n",
    "    events[\"Muons\"] = vector.awk(events.Muons)\n",
    "    \n",
    "    events[\"Electrons\"] = selected_electrons(events.Electrons)\n",
    "    events[\"Muons\"] = selected_muons(events.Muons)\n",
    "\n",
    "    events = events[\n",
    "        ( ak.num(events.Electrons) == 4 ) # exactly 4 electrons\n",
    "        & ( ak.num(events.Muons) == 0 ) # exactly 0 muons\n",
    "        & ( ak.sum(events.Electrons.charge, axis=-1) == 0 ) # sum electrons charge = 0\n",
    "    ]\n",
    "    \n",
    "    return ak.to_packed(events)"
   ]
  },
  {
   "cell_type": "code",
   "execution_count": 24,
   "metadata": {},
   "outputs": [
    {
     "name": "stdout",
     "output_type": "stream",
     "text": [
      "Initially we had 50,000 events. After the event selection we have 198 events\n"
     ]
    }
   ],
   "source": [
    "processed_events = processed(events)\n",
    "\n",
    "print(f'Initially we had {len(events):,} events. After the event selection we have {len(processed_events):,} events')"
   ]
  },
  {
   "cell_type": "code",
   "execution_count": 25,
   "metadata": {},
   "outputs": [],
   "source": [
    "candidates = ak.combinations(processed_events.Electrons, 4)\n",
    "e1, e2, e3, e4 = ak.unzip(candidates)\n",
    "higgs_candidate = (e1 + e2 + e3 + e4)"
   ]
  },
  {
   "cell_type": "code",
   "execution_count": 26,
   "metadata": {},
   "outputs": [
    {
     "data": {
      "image/png": "[encoded data removed]",
      "text/plain": [
       "<Figure size 640x480 with 1 Axes>"
      ]
     },
     "metadata": {},
     "output_type": "display_data"
    }
   ],
   "source": [
    "plt.hist(ak.flatten(higgs_candidate.mass/1000), range=(0, 200), bins = 100)\n",
    "plt.axvline(125, color='r', linestyle='dashed', linewidth=2, label='Expected Higgs Boson Mass')\n",
    "plt.xlabel(\"Reconstructed Higgs Boson Mass (GeV)\")\n",
    "plt.ylabel(\"Number of Events\")\n",
    "plt.title(\"Distribution of Reconstructed Higgs Boson Mass\")\n",
    "plt.legend()\n",
    "plt.show()"
   ]
  }
 ],
 "metadata": {
  "kernelspec": {
   "display_name": "auth-tutorial-columnar-HEP",
   "language": "python",
   "name": "python3"
  },
  "language_info": {
   "codemirror_mode": {
    "name": "ipython",
    "version": 3
   },
   "file_extension": ".py",
   "mimetype": "text/x-python",
   "name": "python",
   "nbconvert_exporter": "python",
   "pygments_lexer": "ipython3",
   "version": "3.9.22"
  }
 },
 "nbformat": 4,
 "nbformat_minor": 2
}
