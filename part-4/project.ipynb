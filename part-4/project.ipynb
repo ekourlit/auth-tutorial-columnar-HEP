{
 "cells": [
  {
   "cell_type": "markdown",
   "metadata": {},
   "source": [
    "# Part 4 project: Reconstructing the mass of the Higgs boson\n",
    "\n",
    "This project follows to the knowledge acquired during the Part 4 of the tutorial. The goal is to produce a histogram and estimate the mass of the Higgs boson from simulated experimental data by the ATLAS experiment at CERN."
   ]
  },
  {
   "cell_type": "markdown",
   "metadata": {},
   "source": [
    "Let's first import some needed libraries:"
   ]
  },
  {
   "cell_type": "code",
   "execution_count": null,
   "metadata": {},
   "outputs": [],
   "source": [
    "# Import basic libraries\n",
    "import copy # copy variables\n",
    "import os   # manage paths\n",
    "import numpy as np  # numerical operations\n",
    "from scipy import stats # statistical functions\n",
    "import uproot   # use of root files\n",
    "import awkward as ak    # nested, variable sized data\n",
    "import vector   # lorentz vectors\n",
    "vector.register_awkward()\n",
    "import matplotlib.pyplot as plt # plotting\n",
    "import matplotlib as mpl # plotting\n",
    "import tqdm # progress bars\n",
    "import atlasopenmagic as atom # ATLAS Open Data package"
   ]
  },
  {
   "cell_type": "markdown",
   "metadata": {},
   "source": [
    "The Higgs boson is extremely short lived (about $10^{-22}$ seconds) and immediately decays to other particles. For this scenario we will study the decays of the Higgs boson to two other elementary particles, the Z bosons.\n",
    "\n",
    "In their turn, the Z bosons are extremely short lived as well. However, at about 3% of the time, they decay to two electrons. Electrons are also elementary particle but stable ones! Therefore, we will look at the detector for electron signatures. In particular, for **four electrons**.\n",
    "\n",
    "<img src=\"../img/fig_01d.png\" width=\"400\"/>"
   ]
  },
  {
   "cell_type": "markdown",
   "metadata": {},
   "source": [
    "The dataset we will use comes from the 2024 ATLAS Open Data for Research release and contains simulated event data describing the production of the Higgs boson via a gluon fusion and its decay to four leptons via a pair of Z bosons. As shown on the Feynman diagram above.\n",
    "\n",
    "The dataset we look for is named:  \n",
    "`mc20_13TeV_MC_PowhegPythia8EvtGen_NNLOPS_nnlo_30_ggH125_ZZ4l`  \n",
    "and can be found at DOI:[10.7483/OPENDATA.ATLAS.Z2J9.709J](https://opendata.cern.ch/record/80012).\n",
    "\n",
    "Using the dataset description on its name (e.g. `PowhegPythia8EvtGen_NNLOPS_nnlo_30_ggH125_ZZ4l`) we can look at the [Metadata Table](https://opendata.atlas.cern/docs/data/for_research/metadata#metadata-table) and identify its Dataset ID (DSID) being `345060`.\n",
    "\n",
    "We will use this DSID to get a list the files of the dataset using `atom`."
   ]
  },
  {
   "cell_type": "code",
   "execution_count": null,
   "metadata": {},
   "outputs": [],
   "source": [
    "urls_sample = atom.get_urls(345060, protocol='https')\n",
    "urls_sample"
   ]
  },
  {
   "cell_type": "markdown",
   "metadata": {},
   "source": [
    "Let's use a single file for the moment to speed things up."
   ]
  },
  {
   "cell_type": "code",
   "execution_count": null,
   "metadata": {},
   "outputs": [],
   "source": [
    "filename = urls_sample[0]\n",
    "filename"
   ]
  },
  {
   "cell_type": "markdown",
   "metadata": {},
   "source": [
    "Open the tree we're interested in and list the branches within it. Of course, one can better inspect the file content here: https://atlas-physlite-content-opendata.web.cern.ch/."
   ]
  },
  {
   "cell_type": "code",
   "execution_count": null,
   "metadata": {},
   "outputs": [],
   "source": [
    "tree = uproot.open({filename: \"CollectionTree\"})\n",
    "tree.show(name_width=50, typename_width=50, interpretation_width=50)"
   ]
  },
  {
   "cell_type": "markdown",
   "metadata": {},
   "source": [
    "First, we want to create a similar structure as previously. This time we care only about electrons and muons.\n",
    "\n",
    "Create a structure including the following variables:\n",
    "* Electrons\n",
    "  * pt\n",
    "  * eta\n",
    "  * phi\n",
    "  * m\n",
    "  * charge\n",
    "* Muons\n",
    "  * pt\n",
    "  * eta\n",
    "  * phi\n",
    "  * charge\n",
    "\n",
    "Then you can `zip` those structures together to create the higher level `events` structure."
   ]
  },
  {
   "cell_type": "code",
   "execution_count": null,
   "metadata": {},
   "outputs": [],
   "source": [
    "# Your code goes here"
   ]
  },
  {
   "cell_type": "markdown",
   "metadata": {},
   "source": [
    "We will apply a similar object selection logic as previously:\n",
    "- Lepton $p_T$ greater than 20 GeV.\n",
    "- Lepton $\\eta$ within a certain range ($|\\eta| < 2.47$).\n",
    "\n",
    "Define the appropriate functions:"
   ]
  },
  {
   "cell_type": "code",
   "execution_count": null,
   "metadata": {},
   "outputs": [],
   "source": [
    "# Your code goes here"
   ]
  },
  {
   "cell_type": "markdown",
   "metadata": {},
   "source": [
    "Next we should process the events and apply the selection criteria. Those are:\n",
    "* Exactly 4 electrons.\n",
    "* Exactly 0 muons.\n",
    "* The sum of the electrons charge is zero.\n",
    "\n",
    "Define the appropriate function:"
   ]
  },
  {
   "cell_type": "markdown",
   "metadata": {
    "vscode": {
     "languageId": "html"
    }
   },
   "source": [
    "<details>\n",
    "<summary><b>Hint</b></summary>\n",
    "It might help you looking at the <code>processed</code> function on the lecture material.\n",
    "</details>"
   ]
  },
  {
   "cell_type": "code",
   "execution_count": null,
   "metadata": {},
   "outputs": [],
   "source": [
    "# Your code goes here"
   ]
  },
  {
   "cell_type": "markdown",
   "metadata": {},
   "source": [
    "How many events we have before and after the selection process?"
   ]
  },
  {
   "cell_type": "code",
   "execution_count": null,
   "metadata": {},
   "outputs": [],
   "source": [
    "# Your code goes here"
   ]
  },
  {
   "cell_type": "markdown",
   "metadata": {},
   "source": [
    "Finally, make the combinations, reconstruct the Higgs candidate and plot its mass in GeV units."
   ]
  },
  {
   "cell_type": "code",
   "execution_count": null,
   "metadata": {},
   "outputs": [],
   "source": [
    "# Your code goes here"
   ]
  },
  {
   "cell_type": "markdown",
   "metadata": {},
   "source": [
    "What is the estimated mass of the reconstructed Higgs boson?"
   ]
  },
  {
   "cell_type": "markdown",
   "metadata": {},
   "source": [
    "<details>\n",
    "<summary><b>Hint</b></summary>\n",
    "\n",
    "You can use some <a href=\"https://en.wikipedia.org/wiki/Wisdom_of_the_crowd\">Wisdom of the Crowd</a>, as Francis Galton did in 1906 in Plymouth.\n",
    "\n",
    "</details>"
   ]
  },
  {
   "cell_type": "code",
   "execution_count": null,
   "metadata": {},
   "outputs": [],
   "source": [
    "# Your code goes here"
   ]
  },
  {
   "cell_type": "markdown",
   "metadata": {},
   "source": [
    "## Bonus exercise\n",
    "\n",
    "Can you setup a routine to actually process all the events of the dataset?\n",
    "\n",
    "You will need to open a file, do the calculation, store the result and repeat on the next file and so on.\n",
    "\n",
    "How many events you have processed now?"
   ]
  },
  {
   "cell_type": "code",
   "execution_count": null,
   "metadata": {},
   "outputs": [],
   "source": [
    "# Your code goes here"
   ]
  }
 ],
 "metadata": {
  "kernelspec": {
   "display_name": "auth-tutorial-columnar-HEP",
   "language": "python",
   "name": "python3"
  },
  "language_info": {
   "codemirror_mode": {
    "name": "ipython",
    "version": 3
   },
   "file_extension": ".py",
   "mimetype": "text/x-python",
   "name": "python",
   "nbconvert_exporter": "python",
   "pygments_lexer": "ipython3",
   "version": "3.9.22"
  }
 },
 "nbformat": 4,
 "nbformat_minor": 2
}
