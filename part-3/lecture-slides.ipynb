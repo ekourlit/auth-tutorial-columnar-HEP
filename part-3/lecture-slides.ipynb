{
 "cells": [
  {
   "cell_type": "markdown",
   "metadata": {
    "slideshow": {
     "slide_type": "slide"
    }
   },
   "source": [
    "# Part 3: Introduction to High Energy Physics data\n",
    "A perspective from the ATLAS experiment at CERN"
   ]
  },
  {
   "cell_type": "markdown",
   "metadata": {
    "@deathbeds/jupyterlab-fonts": {
     "styles": {
      "": {
       "body[data-jp-deck-mode='presenting'] &": {
        "zoom": "96%"
       }
      }
     }
    },
    "slideshow": {
     "slide_type": "slide"
    }
   },
   "source": [
    "## The LHC and the ATLAS experiment"
   ]
  },
  {
   "cell_type": "markdown",
   "metadata": {
    "slideshow": {
     "slide_type": "slide"
    }
   },
   "source": [
    "The ATLAS experiment at CERN explores vast amounts of physics data to answer the most fundamental questions of the Universe.\n",
    "\n",
    "* What is Dark Matter, and can we produce dark matter particles in the LHC?\n",
    "* Are there extra spatial dimensions beyond the familiar three?\n",
    "* Why is there more matter than antimatter in the universe?\n",
    "* Are there new fundamental particles or forces?\n",
    "* ...\n",
    "\n",
    "The Large Hadron Collider (LHC) is a circular particle accelerator that provides high energy proton-proton collisions (_events_), from which new particles are being produced due to the basic equation that relates energy and matter:  \n",
    "$$E = mc^2$$\n",
    "\n",
    "<img src=\"../img/LHC_collisions.jpeg\" width=\"800\"/>"
   ]
  },
  {
   "cell_type": "markdown",
   "metadata": {
    "slideshow": {
     "slide_type": "slide"
    }
   },
   "source": [
    "The ATLAS detector is mounted in one of the four interaction points of the LHC -- other detectors are mounted in other interaction points.\n",
    "\n",
    "<img src=\"../img/LHC.png\" width=\"800\"/>"
   ]
  },
  {
   "cell_type": "markdown",
   "metadata": {
    "slideshow": {
     "slide_type": "slide"
    }
   },
   "source": [
    "ATLAS is a complex detector, composed by various sub-detectors, each one specialized to the detection of a specific signature/particle.\n",
    "\n",
    "Those outgoing, newly produced particles, leave signatures in the ATLAS detector. Physicists reconstruct particle objects from those signatures.\n",
    "\n",
    "<img src=\"../img/ATLASImage.jpg\" width=\"800\"/>"
   ]
  },
  {
   "cell_type": "markdown",
   "metadata": {
    "slideshow": {
     "slide_type": "slide"
    }
   },
   "source": [
    "And a transverse view of the detector showing actually the specific signatures different particles are leaving.\n",
    "\n",
    "<img src=\"../img/Schematic-of-how-different-particles-interact-with-the-ATLAS-detector.png\" width=\"700\"/>"
   ]
  },
  {
   "cell_type": "markdown",
   "metadata": {
    "slideshow": {
     "slide_type": "slide"
    }
   },
   "source": [
    "## The ATLAS physics data"
   ]
  },
  {
   "cell_type": "markdown",
   "metadata": {},
   "source": [
    "Those reconstructed particle objects, after various processing and data reduction steps, are stored in a compact data format called [PHYSLITE](https://opendata.atlas.cern/docs/documentation/data_format/physlite/). Physicists analyze PHYSLITE data to study the properties of the particles produced in each event.\n",
    "\n",
    "Key Features of PHYSLITE:\n",
    "- **Reduced File Size:** PHYSLITE targets a file size of 10 kB per event for data and 12 kB for MC, a significant reduction compared to previous formats.\n",
    "- **CPU Efficiency:** Preliminary evaluations show a 25% reduction in CPU usage compared to previous models.\n",
    "- **Unskimmed and Monolithic:** PHYSLITE is designed to be a one-size-fits-all solution, fitting various use cases without the need for multiple versions.\n",
    "- **Direct Analysis Capability:** PHYSLITE can be analyzed directly, avoiding the need for creating flat n-tuples and further reducing storage demands.\n",
    "\n",
    "PHYSLITE data are highly structured and can be represented in a tabular format. However, since each event can contain variable number of particles, this will be a _ragged_ or _jagged_ table. \n",
    "\n",
    "Therefore, we will use the [`awkward`](https://github.com/scikit-hep/awkward) Python library that provides NumPy-like idioms for arbitrary data structures. \n",
    "\n",
    "For example:"
   ]
  },
  {
   "cell_type": "code",
   "execution_count": 1,
   "metadata": {},
   "outputs": [
    {
     "data": {
      "text/html": [
       "<div>\n",
       "<style scoped>\n",
       "    .dataframe tbody tr th:only-of-type {\n",
       "        vertical-align: middle;\n",
       "    }\n",
       "\n",
       "    .dataframe tbody tr th {\n",
       "        vertical-align: top;\n",
       "    }\n",
       "\n",
       "    .dataframe thead th {\n",
       "        text-align: right;\n",
       "    }\n",
       "</style>\n",
       "<table border=\"1\" class=\"dataframe\">\n",
       "  <thead>\n",
       "    <tr style=\"text-align: right;\">\n",
       "      <th></th>\n",
       "      <th></th>\n",
       "      <th>x</th>\n",
       "      <th>y</th>\n",
       "      <th>z</th>\n",
       "    </tr>\n",
       "    <tr>\n",
       "      <th>entry</th>\n",
       "      <th>subentry</th>\n",
       "      <th></th>\n",
       "      <th></th>\n",
       "      <th></th>\n",
       "    </tr>\n",
       "  </thead>\n",
       "  <tbody>\n",
       "    <tr>\n",
       "      <th rowspan=\"3\" valign=\"top\">0</th>\n",
       "      <th>0</th>\n",
       "      <td>1.1</td>\n",
       "      <td>1.2</td>\n",
       "      <td>3.1</td>\n",
       "    </tr>\n",
       "    <tr>\n",
       "      <th>1</th>\n",
       "      <td>2.2</td>\n",
       "      <td>1.3</td>\n",
       "      <td>2.0</td>\n",
       "    </tr>\n",
       "    <tr>\n",
       "      <th>2</th>\n",
       "      <td>3.3</td>\n",
       "      <td>2.4</td>\n",
       "      <td>4.2</td>\n",
       "    </tr>\n",
       "    <tr>\n",
       "      <th rowspan=\"2\" valign=\"top\">2</th>\n",
       "      <th>0</th>\n",
       "      <td>4.4</td>\n",
       "      <td>1.1</td>\n",
       "      <td>1.0</td>\n",
       "    </tr>\n",
       "    <tr>\n",
       "      <th>1</th>\n",
       "      <td>5.5</td>\n",
       "      <td>4.2</td>\n",
       "      <td>3.2</td>\n",
       "    </tr>\n",
       "  </tbody>\n",
       "</table>\n",
       "</div>"
      ],
      "text/plain": [
       "                  x    y    z\n",
       "entry subentry               \n",
       "0     0         1.1  1.2  3.1\n",
       "      1         2.2  1.3  2.0\n",
       "      2         3.3  2.4  4.2\n",
       "2     0         4.4  1.1  1.0\n",
       "      1         5.5  4.2  3.2"
      ]
     },
     "execution_count": 1,
     "metadata": {},
     "output_type": "execute_result"
    }
   ],
   "source": [
    "import awkward as ak\n",
    "\n",
    "example = ak.Array([\n",
    "    [{\"x\": 1.1, \"y\": 1.2, \"z\": 3.1}, {\"x\": 2.2, \"y\": 1.3, \"z\": 2}, {\"x\": 3.3, \"y\": 2.4, \"z\": 4.2}],     # this event contains three electrons with properties x, y, and z\n",
    "    [],                                                                                                 # this event contains no electrons\n",
    "    [{\"x\": 4.4, \"y\": 1.1, \"z\": 1}, {\"x\": 5.5, \"y\": 4.2, \"z\": 3.2}]                                      # this event contains two electrons with properties x, y, and z\n",
    "])\n",
    "\n",
    "ak.to_dataframe(example)"
   ]
  },
  {
   "cell_type": "markdown",
   "metadata": {},
   "source": [
    "The properties of the particles (aka *variables*) we store in PHYSLITE files can all be found in:\n",
    "\n",
    "https://atlas-physlite-content-opendata.web.cern.ch/"
   ]
  },
  {
   "cell_type": "markdown",
   "metadata": {},
   "source": [
    "PHYSLITE files are of type [ROOT](https://root.cern/) files. This is a very common file type used in particle physics and needs specialized decompression and interpretation routines to load the data in memory (e.g. in awkward arrays). For such purpose we will use the [`uproot`](https://github.com/scikit-hep/uproot5) library.\n",
    "\n",
    "So far we have introduced the two main libraries we utilize for particle physics data analysis in the Scientific Python ecosystem:\n",
    "\n",
    "1. `awkward`\n",
    "2. `uproot`\n",
    "\n",
    "Those two libraries are in principle enough for a physicist to acquire an in-memory representation of the data."
   ]
  },
  {
   "cell_type": "markdown",
   "metadata": {
    "jp-MarkdownHeadingCollapsed": true,
    "slideshow": {
     "slide_type": "slide"
    }
   },
   "source": [
    "### ATLAS Open Data\n",
    "\n",
    "**ATLAS has recently released 65 TB of PHYSLITE open data for research -- this is over 7 billion LHC collision events!** Those are all the data collected by the experiment during the 2015 and 2016. The release is accompanied by additional 2 billion events of simulated “Monte Carlo” data, which are essential for carrying out a physics analysis. The simulated data have almost the same structure as the real data.\n",
    "\n",
    "Read more about the open data release at: \n",
    "\n",
    "https://atlas.cern/Updates/News/Open-Data-Research\n",
    "\n",
    "The open data portal provides in depth information about the data along with analysis tutorials:\n",
    "\n",
    "https://opendata.atlas.cern/"
   ]
  }
 ],
 "metadata": {
  "kernelspec": {
   "display_name": "auth-tutorial-columnar-HEP",
   "language": "python",
   "name": "python3"
  },
  "language_info": {
   "codemirror_mode": {
    "name": "ipython",
    "version": 3
   },
   "file_extension": ".py",
   "mimetype": "text/x-python",
   "name": "python",
   "nbconvert_exporter": "python",
   "pygments_lexer": "ipython3",
   "version": "3.9.22"
  }
 },
 "nbformat": 4,
 "nbformat_minor": 4
}
