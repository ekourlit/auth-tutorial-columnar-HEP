{
 "cells": [
  {
   "cell_type": "markdown",
   "id": "b1330b7e-9039-4d4b-99d3-5aa5943e2cd8",
   "metadata": {
    "slideshow": {
     "slide_type": "slide"
    },
    "tags": []
   },
   "source": [
    "# Part 1: Array-oriented programming"
   ]
  },
  {
   "cell_type": "markdown",
   "id": "03df504f-a94a-479e-b46d-4f1b7100ad85",
   "metadata": {
    "slideshow": {
     "slide_type": "slide"
    },
    "tags": []
   },
   "source": [
    "## What is \"array-oriented programming\"?"
   ]
  },
  {
   "cell_type": "markdown",
   "id": "c14679bc-c15f-44fe-9b23-0267bfff03b2",
   "metadata": {},
   "source": [
    "<br>\n",
    "\n",
    "It's a programming paradigm, alongside paradigms like \"imperative,\" \"object-oriented,\" and \"functional.\""
   ]
  },
  {
   "cell_type": "markdown",
   "id": "ff59691a-dcc5-4b84-bdfb-b31a4a28cf3a",
   "metadata": {
    "slideshow": {
     "slide_type": "fragment"
    },
    "tags": []
   },
   "source": [
    "<br><br>\n",
    "\n",
    "**In array-oriented programming, the primary data type is an array, and most functions perform one operation on all the elements of the array.**\n",
    "\n",
    "<br><br>"
   ]
  },
  {
   "cell_type": "code",
   "execution_count": 1,
   "id": "39888cca-4edf-4acd-a669-28e2001e232d",
   "metadata": {
    "slideshow": {
     "slide_type": "fragment"
    },
    "tags": []
   },
   "outputs": [],
   "source": [
    "import numpy as np"
   ]
  },
  {
   "cell_type": "markdown",
   "id": "1cc727e5-381d-4d96-95a6-e1a3611a08a6",
   "metadata": {
    "slideshow": {
     "slide_type": "slide"
    },
    "tags": []
   },
   "source": [
    "For instance, this is _not_ array-oriented:\n",
    "\n",
    "<br>"
   ]
  },
  {
   "cell_type": "code",
   "execution_count": 2,
   "id": "5f6fa88b-e119-480f-ba0e-61c4d0fd6f0d",
   "metadata": {
    "tags": []
   },
   "outputs": [
    {
     "data": {
      "text/plain": [
       "array([ 1,  4,  9, 16, 25, 36, 49, 64, 81])"
      ]
     },
     "execution_count": 2,
     "metadata": {},
     "output_type": "execute_result"
    }
   ],
   "source": [
    "input_data = np.array([1, 2, 3, 4, 5, 6, 7, 8, 9])\n",
    "output_data = np.array([0, 0, 0, 0, 0, 0, 0, 0, 0])\n",
    "\n",
    "for i in range(len(input_data)):             # explicitly specifies an order of execution\n",
    "    output_data[i] = input_data[i]**2        # user says what happens to each element\n",
    "\n",
    "output_data"
   ]
  },
  {
   "cell_type": "markdown",
   "id": "a7694536-56dc-46be-93c0-e396d494567e",
   "metadata": {
    "slideshow": {
     "slide_type": "slide"
    },
    "tags": []
   },
   "source": [
    "And this is _not_ array-oriented:\n",
    "\n",
    "<br>"
   ]
  },
  {
   "cell_type": "code",
   "execution_count": 3,
   "id": "84994cc2-37fa-470c-85e4-062009ac9336",
   "metadata": {
    "tags": []
   },
   "outputs": [
    {
     "data": {
      "text/plain": [
       "array([ 1,  4,  9, 16, 25, 36, 49, 64, 81])"
      ]
     },
     "execution_count": 3,
     "metadata": {},
     "output_type": "execute_result"
    }
   ],
   "source": [
    "input_data = np.array([1, 2, 3, 4, 5, 6, 7, 8, 9])\n",
    "\n",
    "output_data = np.fromiter(\n",
    "    map(lambda x: x**2, input_data), int     # still focused on the individual element \"x\"\n",
    ")\n",
    "\n",
    "output_data"
   ]
  },
  {
   "cell_type": "markdown",
   "id": "ab0c669e-2fa1-47f5-a52d-1680fc36f6b9",
   "metadata": {
    "slideshow": {
     "slide_type": "slide"
    },
    "tags": []
   },
   "source": [
    "_This_ is array-oriented:\n",
    "\n",
    "<br>"
   ]
  },
  {
   "cell_type": "code",
   "execution_count": 4,
   "id": "7809e65d-5c32-47d9-98fa-03cf853b35ea",
   "metadata": {
    "tags": []
   },
   "outputs": [
    {
     "data": {
      "text/plain": [
       "array([ 1,  4,  9, 16, 25, 36, 49, 64, 81])"
      ]
     },
     "execution_count": 4,
     "metadata": {},
     "output_type": "execute_result"
    }
   ],
   "source": [
    "input_data = np.array([1, 2, 3, 4, 5, 6, 7, 8, 9])\n",
    "\n",
    "output_data = input_data**2                  # implicit indexes, no individual elements\n",
    "\n",
    "output_data"
   ]
  },
  {
   "cell_type": "markdown",
   "id": "b550f7da-1a90-482a-9d78-a2f53981ed71",
   "metadata": {
    "slideshow": {
     "slide_type": "slide"
    },
    "tags": []
   },
   "source": [
    "As with all programming paradigms, there isn't a sharply defined rule to cleanly separate them, and a single codebase can use several paradigms.\n",
    "\n",
    "<br>"
   ]
  },
  {
   "cell_type": "markdown",
   "id": "8e7740a3-8aba-4a2b-80f0-24ac6009c18b",
   "metadata": {
    "slideshow": {
     "slide_type": "fragment"
    },
    "tags": []
   },
   "source": [
    "They are _styles_, and they're useful because they each bring different programming concepts into the foreground:\n",
    "\n",
    "| Paradigm | Emphasizes |\n",
    "|:-:|:-:|\n",
    "| imperative/procedural | low-level algorithms |\n",
    "| object-oriented | large-scale program structure |\n",
    "| actor-based | temporal locality |\n",
    "| literate | human instruction |\n",
    "| event-driven | cause-and-effect |\n",
    "| declarative | properties of desired result |\n",
    "| symbolic | formula transformations |\n",
    "| functional | data transformations |\n",
    "| array-oriented | data distributions |"
   ]
  },
  {
   "cell_type": "markdown",
   "id": "bd6f1f9e-97f5-4745-8252-7b005d8b7cfb",
   "metadata": {
    "slideshow": {
     "slide_type": "slide"
    },
    "tags": []
   },
   "source": [
    "## What is array-oriented programming good for?"
   ]
  },
  {
   "cell_type": "markdown",
   "id": "899bacbb-56e3-4cb5-b30d-bf0a30a6c0cc",
   "metadata": {},
   "source": [
    "<br>\n",
    "\n",
    "All of the languages/major libraries that emphasize array-oriented programming (that I know of):\n",
    "\n",
    "<br>"
   ]
  },
  {
   "cell_type": "markdown",
   "id": "0eafc2bd-e26c-47a1-a881-a4ae27bedaab",
   "metadata": {
    "tags": []
   },
   "source": [
    "<img src=\"../img/apl-timeline.svg\" width=\"100%\">"
   ]
  },
  {
   "cell_type": "markdown",
   "id": "bf78544b-43de-4064-9042-aa4a617cf3a5",
   "metadata": {
    "slideshow": {
     "slide_type": "slide"
    },
    "tags": []
   },
   "source": [
    "Almost all of them are intended as _interactive data-analysis_ environments.\n",
    "\n",
    "(Fortran-90 is the only one that is not interactive.)\n",
    "\n",
    "<br><br>"
   ]
  },
  {
   "cell_type": "markdown",
   "id": "9aa5607a-0b01-4b64-a87f-df77d6436050",
   "metadata": {
    "slideshow": {
     "slide_type": "fragment"
    },
    "tags": []
   },
   "source": [
    "Almost all feature:\n",
    "\n",
    "* interactive REPL (read-evaluate-print loop)\n",
    "* concise notation\n",
    "* unabashedly mathematical"
   ]
  },
  {
   "cell_type": "markdown",
   "id": "12bb9a58-eb1a-44d7-95cb-e13160d07a84",
   "metadata": {
    "slideshow": {
     "slide_type": "slide"
    },
    "tags": []
   },
   "source": [
    "### Distributions and interactivity"
   ]
  },
  {
   "cell_type": "markdown",
   "id": "c002e0d0-63a9-4f41-91f6-547268f558c0",
   "metadata": {
    "tags": []
   },
   "source": [
    "Array-oriented languages bring data _distributions_ to the foreground.\n",
    "\n",
    "<br>"
   ]
  },
  {
   "cell_type": "code",
   "execution_count": 5,
   "id": "58d9d659-8fa3-4dd4-be19-0ce97d405be8",
   "metadata": {
    "tags": []
   },
   "outputs": [],
   "source": [
    "from hist import Hist  # histogram library"
   ]
  },
  {
   "cell_type": "markdown",
   "id": "522decc8-22ac-40b3-af5e-571afa672240",
   "metadata": {
    "slideshow": {
     "slide_type": "fragment"
    },
    "tags": []
   },
   "source": [
    "<br>\n",
    "\n",
    "Given a large dataset..."
   ]
  },
  {
   "cell_type": "code",
   "execution_count": 6,
   "id": "3bc01b0b-81ed-402e-b77d-f096518b7421",
   "metadata": {
    "tags": []
   },
   "outputs": [],
   "source": [
    "dataset = np.random.normal(0, 1, 1000000)  # one MILLION data points"
   ]
  },
  {
   "cell_type": "markdown",
   "id": "4ecbf8d6-cab8-456a-8b1a-4686c30929be",
   "metadata": {
    "slideshow": {
     "slide_type": "fragment"
    },
    "tags": []
   },
   "source": [
    "<br>\n",
    "\n",
    "How are the data _distributed_?"
   ]
  },
  {
   "cell_type": "code",
   "execution_count": 7,
   "id": "97faa90f-d56d-41d2-9b20-7db69884a477",
   "metadata": {
    "tags": []
   },
   "outputs": [
    {
     "data": {
      "text/html": [
       "<html>\n",
       "<div style=\"display:flex; align-items:center;\">\n",
       "<div style=\"width:290px;\">\n",
       "<svg xmlns=\"http://www.w3.org/2000/svg\" viewBox=\"-10 -105 270 120\">\n",
       "<line x1=\"-5\" y1=\"0\" x2=\"255\" y2=\"0\" style=\"fill:none;stroke-width:2;stroke:currentColor\"/>\n",
       "<text text-anchor=\"middle\" x=\"0\" y=\"15\" style=\"fill:currentColor;\">\n",
       "-5\n",
       "</text>\n",
       "<text text-anchor=\"middle\" x=\"250\" y=\"15\" style=\"fill:currentColor;\">\n",
       "5\n",
       "</text>\n",
       "<text text-anchor=\"middle\" x=\"125.0\" y=\"15\" style=\"fill:currentColor;\">\n",
       "Axis 0\n",
       "</text>\n",
       "<polyline points=\"  0,0   0,-0 2.5,-0 2.5,-0   5,-0   5,-0 7.5,-0 7.5,-0  10,-0  10,-0.005 12.5,-0.005 12.5,-0.005  15,-0.005  15,-0.0025 17.5,-0.0025 17.5,-0.0175  20,-0.0175  20,-0.015 22.5,-0.015 22.5,-0.03  25,-0.03  25,-0.04 27.5,-0.04 27.5,-0.0675  30,-0.0675  30,-0.0925 32.5,-0.0925 32.5,-0.14  35,-0.14  35,-0.168 37.5,-0.168 37.5,-0.245  40,-0.245  40,-0.363 42.5,-0.363 42.5,-0.528  45,-0.528  45,-0.653 47.5,-0.653 47.5,-0.985  50,-0.985  50,-1.31 52.5,-1.31 52.5,-1.61  55,-1.61  55,-2.2 57.5,-2.2 57.5,-3.14  60,-3.14  60,-3.81 62.5,-3.81 62.5,-5.03  65,-5.03  65,-6.52 67.5,-6.52 67.5,-8.17  70,-8.17  70,-10.1 72.5,-10.1 72.5,-12.2  75,-12.2  75,-15.1 77.5,-15.1 77.5,-18  80,-18  80,-21.6 82.5,-21.6 82.5,-25.5  85,-25.5  85,-29.6 87.5,-29.6 87.5,-35  90,-35  90,-39.8 92.5,-39.8 92.5,-45.8  95,-45.8  95,-51.4 97.5,-51.4 97.5,-57.6 100,-57.6 100,-63.3 102.5,-63.3 102.5,-69.9 105,-69.9 105,-75.7 107.5,-75.7 107.5,-80.3 110,-80.3 110,-86.3 112.5,-86.3 112.5,-89.9 115,-89.9 115,-93.7 117.5,-93.7 117.5,-95.8 120,-95.8 120,-99.5 122.5,-99.5 122.5,-98.9 125,-98.9 125,-100 127.5,-100 127.5,-97.9 130,-97.9 130,-97.4 132.5,-97.4 132.5,-93.7 135,-93.7 135,-91.3 137.5,-91.3 137.5,-85.6 140,-85.6 140,-80.8 142.5,-80.8 142.5,-75.9 145,-75.9 145,-69 147.5,-69 147.5,-63 150,-63 150,-57 152.5,-57 152.5,-50.9 155,-50.9 155,-45.6 157.5,-45.6 157.5,-40.1 160,-40.1 160,-35.2 162.5,-35.2 162.5,-30 165,-30 165,-25.6 167.5,-25.6 167.5,-21.9 170,-21.9 170,-17.9 172.5,-17.9 172.5,-14.9 175,-14.9 175,-12.3 177.5,-12.3 177.5,-9.98 180,-9.98 180,-7.72 182.5,-7.72 182.5,-6.39 185,-6.39 185,-4.96 187.5,-4.96 187.5,-3.88 190,-3.88 190,-3.03 192.5,-3.03 192.5,-2.23 195,-2.23 195,-1.79 197.5,-1.79 197.5,-1.28 200,-1.28 200,-0.943 202.5,-0.943 202.5,-0.69 205,-0.69 205,-0.478 207.5,-0.478 207.5,-0.413 210,-0.413 210,-0.29 212.5,-0.29 212.5,-0.198 215,-0.198 215,-0.158 217.5,-0.158 217.5,-0.09 220,-0.09 220,-0.055 222.5,-0.055 222.5,-0.0375 225,-0.0375 225,-0.0175 227.5,-0.0175 227.5,-0.0225 230,-0.0225 230,-0.01 232.5,-0.01 232.5,-0.0075 235,-0.0075 235,-0.0025 237.5,-0.0025 237.5,-0.01 240,-0.01 240,-0 242.5,-0 242.5,-0 245,-0 245,-0 247.5,-0 247.5,-0.0025 250,-0.0025 250,0\" style=\"fill:none; stroke:currentColor;\"/>\n",
       "</svg>\n",
       "</div>\n",
       "<div style=\"flex=grow:1;\">\n",
       "Regular(100, -5, 5, label='Axis 0')<br/>\n",
       "<hr style=\"margin-top:.2em; margin-bottom:.2em;\"/>\n",
       "Double() Σ=1000000.0\n",
       "\n",
       "</div>\n",
       "</div>\n",
       "</html>"
      ],
      "text/plain": [
       "Hist(Regular(100, -5, 5, label='Axis 0'), storage=Double()) # Sum: 1000000.0"
      ]
     },
     "execution_count": 7,
     "metadata": {},
     "output_type": "execute_result"
    }
   ],
   "source": [
    "Hist.new.Reg(100, -5, 5).Double().fill(dataset)"
   ]
  },
  {
   "cell_type": "markdown",
   "id": "95c4994b-ce5c-4eda-923f-e2c3f51f8c25",
   "metadata": {
    "slideshow": {
     "slide_type": "slide"
    },
    "tags": []
   },
   "source": [
    "What happens if we apply a function to _all values in the distribution_?"
   ]
  },
  {
   "cell_type": "code",
   "execution_count": 8,
   "id": "0838ca5d-1870-4cbb-bd3a-254d57c885dc",
   "metadata": {
    "tags": []
   },
   "outputs": [],
   "source": [
    "dataset2 = dataset**2"
   ]
  },
  {
   "cell_type": "markdown",
   "id": "68f55197-2f54-4d9b-a514-a27ee435acdc",
   "metadata": {},
   "source": [
    "<br>"
   ]
  },
  {
   "cell_type": "code",
   "execution_count": 9,
   "id": "7cdf355a-8cc0-4aa9-878e-3b1623e090e8",
   "metadata": {
    "tags": []
   },
   "outputs": [
    {
     "data": {
      "text/html": [
       "<html>\n",
       "<div style=\"display:flex; align-items:center;\">\n",
       "<div style=\"width:290px;\">\n",
       "<svg xmlns=\"http://www.w3.org/2000/svg\" viewBox=\"-10 -105 270 120\">\n",
       "<line x1=\"-5\" y1=\"0\" x2=\"255\" y2=\"0\" style=\"fill:none;stroke-width:2;stroke:currentColor\"/>\n",
       "<text text-anchor=\"middle\" x=\"0\" y=\"15\" style=\"fill:currentColor;\">\n",
       "-1\n",
       "</text>\n",
       "<text text-anchor=\"middle\" x=\"250\" y=\"15\" style=\"fill:currentColor;\">\n",
       "10\n",
       "</text>\n",
       "<text text-anchor=\"middle\" x=\"125.0\" y=\"15\" style=\"fill:currentColor;\">\n",
       "Axis 0\n",
       "</text>\n",
       "<polyline points=\"  0,0   0,-0 2.5,-0 2.5,-0   5,-0   5,-0 7.5,-0 7.5,-0  10,-0  10,-0 12.5,-0 12.5,-0  15,-0  15,-0 17.5,-0 17.5,-0  20,-0  20,-0 22.5,-0 22.5,-100  25,-100  25,-42.3 27.5,-42.3 27.5,-30.4  30,-30.4  30,-24.1 32.5,-24.1 32.5,-20  35,-20  35,-17.2 37.5,-17.2 37.5,-14.8  40,-14.8  40,-13 42.5,-13 42.5,-11.5  45,-11.5  45,-10.3 47.5,-10.3 47.5,-9.32  50,-9.32  50,-8.42 52.5,-8.42 52.5,-7.55  55,-7.55  55,-6.99 57.5,-6.99 57.5,-6.34  60,-6.34  60,-5.83 62.5,-5.83 62.5,-5.31  65,-5.31  65,-4.91 67.5,-4.91 67.5,-4.58  70,-4.58  70,-4.15 72.5,-4.15 72.5,-3.83  75,-3.83  75,-3.58 77.5,-3.58 77.5,-3.27  80,-3.27  80,-2.94 82.5,-2.94 82.5,-2.84  85,-2.84  85,-2.61 87.5,-2.61 87.5,-2.43  90,-2.43  90,-2.26 92.5,-2.26 92.5,-2.12  95,-2.12  95,-1.94 97.5,-1.94 97.5,-1.83 100,-1.83 100,-1.69 102.5,-1.69 102.5,-1.57 105,-1.57 105,-1.5 107.5,-1.5 107.5,-1.37 110,-1.37 110,-1.29 112.5,-1.29 112.5,-1.18 115,-1.18 115,-1.11 117.5,-1.11 117.5,-1.05 120,-1.05 120,-0.975 122.5,-0.975 122.5,-0.91 125,-0.91 125,-0.871 127.5,-0.871 127.5,-0.779 130,-0.779 130,-0.771 132.5,-0.771 132.5,-0.724 135,-0.724 135,-0.633 137.5,-0.633 137.5,-0.611 140,-0.611 140,-0.562 142.5,-0.562 142.5,-0.57 145,-0.57 145,-0.499 147.5,-0.499 147.5,-0.486 150,-0.486 150,-0.445 152.5,-0.445 152.5,-0.403 155,-0.403 155,-0.399 157.5,-0.399 157.5,-0.351 160,-0.351 160,-0.345 162.5,-0.345 162.5,-0.323 165,-0.323 165,-0.299 167.5,-0.299 167.5,-0.273 170,-0.273 170,-0.262 172.5,-0.262 172.5,-0.243 175,-0.243 175,-0.234 177.5,-0.234 177.5,-0.226 180,-0.226 180,-0.208 182.5,-0.208 182.5,-0.202 185,-0.202 185,-0.187 187.5,-0.187 187.5,-0.176 190,-0.176 190,-0.148 192.5,-0.148 192.5,-0.136 195,-0.136 195,-0.141 197.5,-0.141 197.5,-0.134 200,-0.134 200,-0.13 202.5,-0.13 202.5,-0.11 205,-0.11 205,-0.104 207.5,-0.104 207.5,-0.108 210,-0.108 210,-0.0931 212.5,-0.0931 212.5,-0.0854 215,-0.0854 215,-0.0806 217.5,-0.0806 217.5,-0.0822 220,-0.0822 220,-0.0754 222.5,-0.0754 222.5,-0.073 225,-0.073 225,-0.0766 227.5,-0.0766 227.5,-0.0592 230,-0.0592 230,-0.0544 232.5,-0.0544 232.5,-0.056 235,-0.056 235,-0.0556 237.5,-0.0556 237.5,-0.0484 240,-0.0484 240,-0.0564 242.5,-0.0564 242.5,-0.0403 245,-0.0403 245,-0.0347 247.5,-0.0347 247.5,-0.0407 250,-0.0407 250,0\" style=\"fill:none; stroke:currentColor;\"/>\n",
       "</svg>\n",
       "</div>\n",
       "<div style=\"flex=grow:1;\">\n",
       "Regular(100, -1, 10, label='Axis 0')<br/>\n",
       "<hr style=\"margin-top:.2em; margin-bottom:.2em;\"/>\n",
       "Double() Σ=998412.0 <em>(1000000.0 with flow)</em>\n",
       "\n",
       "</div>\n",
       "</div>\n",
       "</html>"
      ],
      "text/plain": [
       "Hist(Regular(100, -1, 10, label='Axis 0'), storage=Double()) # Sum: 998412.0 (1000000.0 with flow)"
      ]
     },
     "execution_count": 9,
     "metadata": {},
     "output_type": "execute_result"
    }
   ],
   "source": [
    "Hist.new.Reg(100, -1, 10).Double().fill(dataset2)"
   ]
  },
  {
   "cell_type": "markdown",
   "id": "b0ef0321-5fc0-4bca-98b7-763fe12afdbc",
   "metadata": {
    "slideshow": {
     "slide_type": "slide"
    },
    "tags": []
   },
   "source": [
    "Can anyone guess what this distribution will look like?"
   ]
  },
  {
   "cell_type": "code",
   "execution_count": 10,
   "id": "17ea1227-ddc9-4188-a57a-92ef2139d8f9",
   "metadata": {
    "tags": []
   },
   "outputs": [],
   "source": [
    "dataset3 = np.sin(1/dataset2)"
   ]
  },
  {
   "cell_type": "markdown",
   "id": "298888cc-c0cc-4f06-a981-74a2cf9463af",
   "metadata": {},
   "source": [
    "<br>\n",
    "\n",
    "(I can't.)"
   ]
  },
  {
   "cell_type": "code",
   "execution_count": 11,
   "id": "02f4ab09-a785-46b0-9339-72e3efe73858",
   "metadata": {
    "tags": []
   },
   "outputs": [
    {
     "data": {
      "text/html": [
       "<html>\n",
       "<div style=\"display:flex; align-items:center;\">\n",
       "<div style=\"width:290px;\">\n",
       "<svg xmlns=\"http://www.w3.org/2000/svg\" viewBox=\"-10 -105 270 120\">\n",
       "<line x1=\"-5\" y1=\"0\" x2=\"255\" y2=\"0\" style=\"fill:none;stroke-width:2;stroke:currentColor\"/>\n",
       "<text text-anchor=\"middle\" x=\"0\" y=\"15\" style=\"fill:currentColor;\">\n",
       "-1\n",
       "</text>\n",
       "<text text-anchor=\"middle\" x=\"250\" y=\"15\" style=\"fill:currentColor;\">\n",
       "1\n",
       "</text>\n",
       "<text text-anchor=\"middle\" x=\"125.0\" y=\"15\" style=\"fill:currentColor;\">\n",
       "Axis 0\n",
       "</text>\n",
       "<polyline points=\"  0,0   0,-38.9 2.5,-38.9 2.5,-16.2   5,-16.2   5,-12.6 7.5,-12.6 7.5,-10.5  10,-10.5  10,-9.5 12.5,-9.5 12.5,-8.7  15,-8.7  15,-8.08 17.5,-8.08 17.5,-7.47  20,-7.47  20,-7.12 22.5,-7.12 22.5,-6.73  25,-6.73  25,-6.56 27.5,-6.56 27.5,-6.29  30,-6.29  30,-6.04 32.5,-6.04 32.5,-5.7  35,-5.7  35,-5.53 37.5,-5.53 37.5,-5.37  40,-5.37  40,-5.52 42.5,-5.52 42.5,-5.29  45,-5.29  45,-5.18 47.5,-5.18 47.5,-5.08  50,-5.08  50,-5.03 52.5,-5.03 52.5,-4.92  55,-4.92  55,-4.73 57.5,-4.73 57.5,-4.78  60,-4.78  60,-4.78 62.5,-4.78 62.5,-4.56  65,-4.56  65,-4.63 67.5,-4.63 67.5,-4.72  70,-4.72  70,-4.44 72.5,-4.44 72.5,-4.4  75,-4.4  75,-4.38 77.5,-4.38 77.5,-4.45  80,-4.45  80,-4.28 82.5,-4.28 82.5,-4.28  85,-4.28  85,-4.21 87.5,-4.21 87.5,-4.33  90,-4.33  90,-4.29 92.5,-4.29 92.5,-4.38  95,-4.38  95,-4.21 97.5,-4.21 97.5,-4.34 100,-4.34 100,-4.21 102.5,-4.21 102.5,-4.08 105,-4.08 105,-4.24 107.5,-4.24 107.5,-4.24 110,-4.24 110,-4.19 112.5,-4.19 112.5,-4.31 115,-4.31 115,-4.26 117.5,-4.26 117.5,-4.14 120,-4.14 120,-4.19 122.5,-4.19 122.5,-4.21 125,-4.21 125,-4.25 127.5,-4.25 127.5,-4.29 130,-4.29 130,-4.35 132.5,-4.35 132.5,-4.74 135,-4.74 135,-5.75 137.5,-5.75 137.5,-7.42 140,-7.42 140,-8.89 142.5,-8.89 142.5,-10.5 145,-10.5 145,-12.1 147.5,-12.1 147.5,-13.3 150,-13.3 150,-14.5 152.5,-14.5 152.5,-14.9 155,-14.9 155,-15.7 157.5,-15.7 157.5,-16.2 160,-16.2 160,-16.4 162.5,-16.4 162.5,-16.6 165,-16.6 165,-16.8 167.5,-16.8 167.5,-16.9 170,-16.9 170,-17 172.5,-17 172.5,-16.7 175,-16.7 175,-17.2 177.5,-17.2 177.5,-17 180,-17 180,-17 182.5,-17 182.5,-17 185,-17 185,-17 187.5,-17 187.5,-16.8 190,-16.8 190,-16.7 192.5,-16.7 192.5,-16.8 195,-16.8 195,-16.9 197.5,-16.9 197.5,-16.8 200,-16.8 200,-16.7 202.5,-16.7 202.5,-17.1 205,-17.1 205,-16.9 207.5,-16.9 207.5,-17.1 210,-17.1 210,-17 212.5,-17 212.5,-17.6 215,-17.6 215,-17.7 217.5,-17.7 217.5,-18 220,-18 220,-18.2 222.5,-18.2 222.5,-18.9 225,-18.9 225,-19.6 227.5,-19.6 227.5,-20.1 230,-20.1 230,-20.7 232.5,-20.7 232.5,-21.8 235,-21.8 235,-23.7 237.5,-23.7 237.5,-25.7 240,-25.7 240,-28.5 242.5,-28.5 242.5,-33.1 245,-33.1 245,-42.3 247.5,-42.3 247.5,-100 250,-100 250,0\" style=\"fill:none; stroke:currentColor;\"/>\n",
       "</svg>\n",
       "</div>\n",
       "<div style=\"flex=grow:1;\">\n",
       "Regular(100, -1, 1, label='Axis 0')<br/>\n",
       "<hr style=\"margin-top:.2em; margin-bottom:.2em;\"/>\n",
       "Double() Σ=1000000.0\n",
       "\n",
       "</div>\n",
       "</div>\n",
       "</html>"
      ],
      "text/plain": [
       "Hist(Regular(100, -1, 1, label='Axis 0'), storage=Double()) # Sum: 1000000.0"
      ]
     },
     "execution_count": 11,
     "metadata": {},
     "output_type": "execute_result"
    }
   ],
   "source": [
    "Hist.new.Reg(100, -1, 1).Double().fill(dataset3)"
   ]
  },
  {
   "cell_type": "markdown",
   "id": "d03dd5b3-9b3c-4f61-9f69-57a97cbd19ad",
   "metadata": {
    "slideshow": {
     "slide_type": "slide"
    },
    "tags": []
   },
   "source": [
    "**Human readability advantage:**\n",
    "\n",
    "  * Mathematical expressions are concise, more convenient to type interactivity.\n",
    "\n",
    "<br>\n",
    "\n",
    "**Computational advantage:**\n",
    "\n",
    "  * The right _part_ of the computation is accelerated: the loop over all values in the distribution."
   ]
  },
  {
   "cell_type": "markdown",
   "id": "0b48a09e-502d-4733-b001-ac105613d141",
   "metadata": {
    "slideshow": {
     "slide_type": "slide"
    },
    "tags": []
   },
   "source": [
    "## NumPy"
   ]
  },
  {
   "cell_type": "markdown",
   "id": "1a9bdd55-4184-4622-aad4-4a01b4262d5f",
   "metadata": {
    "slideshow": {
     "slide_type": "slide"
    },
    "tags": []
   },
   "source": [
    "<img src=\"../img/Numpy_Python_Cheat_Sheet.svg\" width=\"100%\">"
   ]
  },
  {
   "cell_type": "markdown",
   "id": "d2d7e96a-e262-44ef-904a-746e3c31658b",
   "metadata": {
    "slideshow": {
     "slide_type": "slide"
    },
    "tags": []
   },
   "source": [
    "NumPy's version of adding arrays elementwise is:"
   ]
  },
  {
   "cell_type": "code",
   "execution_count": 12,
   "id": "52e2ea06-7b5a-409d-8056-ecdec100ea0c",
   "metadata": {
    "tags": []
   },
   "outputs": [
    {
     "data": {
      "text/plain": [
       "array([11, 22, 33])"
      ]
     },
     "execution_count": 12,
     "metadata": {},
     "output_type": "execute_result"
    }
   ],
   "source": [
    "np.array([10, 20, 30]) + np.array([1, 2, 3])"
   ]
  },
  {
   "cell_type": "markdown",
   "id": "55cd427e-7519-4a17-b0b3-9844ad30f0f9",
   "metadata": {
    "slideshow": {
     "slide_type": "fragment"
    },
    "tags": []
   },
   "source": [
    "<br><br>\n",
    "\n",
    "Since all scalar → scalar operators (and scalar → scalar functions in `np.*`) are promoted to elementwise operations on arrays, any [closed form](https://en.wikipedia.org/wiki/Closed-form_expression) expression duck-types between scalars and arrays."
   ]
  },
  {
   "cell_type": "code",
   "execution_count": 13,
   "id": "53e464dd-e2fe-425c-97c1-be9066e4cd9a",
   "metadata": {
    "tags": []
   },
   "outputs": [],
   "source": [
    "def quadratic_formula(a, b, c):\n",
    "    return (-b + np.sqrt(b**2 - 4*a*c)) / (2*a)"
   ]
  },
  {
   "cell_type": "markdown",
   "id": "2b4e75d2-eec3-4b5c-9fda-bd5f711b5698",
   "metadata": {
    "slideshow": {
     "slide_type": "slide"
    },
    "tags": []
   },
   "source": [
    "Compute the quadratic formula on one set of scalar values:"
   ]
  },
  {
   "cell_type": "code",
   "execution_count": 14,
   "id": "8c0331ca-f238-4ad6-a6fe-5da430e71cfd",
   "metadata": {
    "tags": []
   },
   "outputs": [
    {
     "data": {
      "text/plain": [
       "np.float64(0.009950493836207741)"
      ]
     },
     "execution_count": 14,
     "metadata": {},
     "output_type": "execute_result"
    }
   ],
   "source": [
    "a = 5\n",
    "b = 10\n",
    "c = -0.1\n",
    "\n",
    "quadratic_formula(a, b, c)"
   ]
  },
  {
   "cell_type": "markdown",
   "id": "39a121ab-18cf-44d7-b99c-858677b784f6",
   "metadata": {},
   "source": [
    "<br>\n",
    "\n",
    "Compute the quadratic formula on a million values in arrays:"
   ]
  },
  {
   "cell_type": "code",
   "execution_count": 15,
   "id": "90c325c5-4aad-49d7-86f3-8e39beae89a3",
   "metadata": {
    "tags": []
   },
   "outputs": [
    {
     "data": {
      "text/plain": [
       "array([ 0.00661254,  0.00316926, -0.00792986, ..., -0.00390884,\n",
       "       -0.00136096,  0.00194547])"
      ]
     },
     "execution_count": 15,
     "metadata": {},
     "output_type": "execute_result"
    }
   ],
   "source": [
    "a = np.random.uniform(5, 10, 1000000)\n",
    "b = np.random.uniform(10, 20, 1000000)\n",
    "c = np.random.uniform(-0.1, 0.1, 1000000)\n",
    "\n",
    "quadratic_formula(a, b, c)"
   ]
  },
  {
   "cell_type": "markdown",
   "id": "f11f3cf3-baa0-4ecb-b34b-ebeef5647c9e",
   "metadata": {
    "slideshow": {
     "slide_type": "slide"
    },
    "tags": []
   },
   "source": [
    "### A note about performance"
   ]
  },
  {
   "cell_type": "markdown",
   "id": "0c12751f-d6da-4c9e-a51a-48ae45dcc8af",
   "metadata": {
    "tags": []
   },
   "source": [
    "Although NumPy makes each step of the calculation fast, the whole expression is not optimized.\n",
    "\n",
    "The execution of `quadratic_formula` is _similar to_ this:"
   ]
  },
  {
   "cell_type": "code",
   "execution_count": 16,
   "id": "07a44e1c-95f9-4a3f-8941-24510a6b488b",
   "metadata": {
    "tags": []
   },
   "outputs": [],
   "source": [
    "def pedantic_quadratic_formula(a, b, c):\n",
    "    tmp1 = np.negative(b)            # -b\n",
    "    tmp2 = np.square(b)              # b**2\n",
    "    tmp3 = np.multiply(4, a)         # 4*a\n",
    "    tmp4 = np.multiply(tmp3, c)      # tmp3*c\n",
    "    del tmp3\n",
    "    tmp5 = np.subtract(tmp2, tmp4)   # tmp2 - tmp4\n",
    "    del tmp2, tmp4\n",
    "    tmp6 = np.sqrt(tmp5)             # sqrt(tmp5)\n",
    "    del tmp5\n",
    "    tmp7 = np.add(tmp1, tmp6)        # tmp1 + tmp6\n",
    "    del tmp1, tmp6\n",
    "    tmp8 = np.multiply(2, a)         # 2*a\n",
    "    return np.divide(tmp7, tmp8)     # tmp7 / tmp8"
   ]
  },
  {
   "cell_type": "markdown",
   "id": "2d748f8c-d1b7-46f6-943a-8c56f3a9ce4f",
   "metadata": {},
   "source": [
    "<br>"
   ]
  },
  {
   "cell_type": "code",
   "execution_count": 17,
   "id": "81232bc2-1664-4d46-83d0-cf9cde235532",
   "metadata": {
    "tags": []
   },
   "outputs": [
    {
     "data": {
      "text/plain": [
       "array([ 0.00661254,  0.00316926, -0.00792986, ..., -0.00390884,\n",
       "       -0.00136096,  0.00194547])"
      ]
     },
     "execution_count": 17,
     "metadata": {},
     "output_type": "execute_result"
    }
   ],
   "source": [
    "pedantic_quadratic_formula(a, b, c)"
   ]
  },
  {
   "cell_type": "markdown",
   "id": "e7fe7bca-4468-4691-852e-290d6ad1bf7e",
   "metadata": {
    "slideshow": {
     "slide_type": "slide"
    },
    "tags": []
   },
   "source": [
    "Although it's faster than Python `for` loops..."
   ]
  },
  {
   "cell_type": "code",
   "execution_count": 18,
   "id": "82f837b8-9877-4888-bafd-e27be8438643",
   "metadata": {
    "tags": []
   },
   "outputs": [
    {
     "name": "stdout",
     "output_type": "stream",
     "text": [
      "1.28 s ± 57.2 ms per loop (mean ± std. dev. of 7 runs, 1 loop each)\n"
     ]
    }
   ],
   "source": [
    "%%timeit\n",
    "\n",
    "imperative = np.empty_like(c)\n",
    "for i, (ai, bi, ci) in enumerate(zip(a, b, c)):\n",
    "    imperative[i] = quadratic_formula(ai, bi, ci)"
   ]
  },
  {
   "cell_type": "markdown",
   "id": "9b8e6569-ce8e-4ff3-b0e1-816a1852c7c8",
   "metadata": {},
   "source": [
    "<br>"
   ]
  },
  {
   "cell_type": "code",
   "execution_count": 19,
   "id": "6469e4c9-01e0-4dc3-8929-1c8934c62a0f",
   "metadata": {
    "tags": []
   },
   "outputs": [
    {
     "name": "stdout",
     "output_type": "stream",
     "text": [
      "2.73 ms ± 95.6 µs per loop (mean ± std. dev. of 7 runs, 100 loops each)\n"
     ]
    }
   ],
   "source": [
    "%%timeit\n",
    "\n",
    "quadratic_formula(a, b, c)"
   ]
  },
  {
   "cell_type": "markdown",
   "id": "448645db-de6e-4a0b-9f58-dea7719e0107",
   "metadata": {},
   "source": [
    "<br>"
   ]
  },
  {
   "cell_type": "code",
   "execution_count": 20,
   "id": "b405446d-ff23-4430-a2d8-42df15877502",
   "metadata": {
    "tags": []
   },
   "outputs": [
    {
     "name": "stdout",
     "output_type": "stream",
     "text": [
      "3.44 ms ± 154 µs per loop (mean ± std. dev. of 7 runs, 100 loops each)\n"
     ]
    }
   ],
   "source": [
    "%%timeit\n",
    "\n",
    "pedantic_quadratic_formula(a, b, c)"
   ]
  },
  {
   "cell_type": "markdown",
   "id": "e97f498e-033c-4423-9810-33edf8275150",
   "metadata": {
    "slideshow": {
     "slide_type": "slide"
    },
    "tags": []
   },
   "source": [
    "...it's not as fast as a single \"fused\" loop over the data.\n",
    "\n",
    "Other libraries fill this performance gap:"
   ]
  },
  {
   "cell_type": "code",
   "execution_count": 21,
   "id": "bd9e66d3-10d1-4afe-9792-184a9ff282cc",
   "metadata": {
    "tags": []
   },
   "outputs": [],
   "source": [
    "import numexpr as ne\n",
    "\n",
    "ne.evaluate(\"(-b + sqrt(b**2 - 4*a*c)) / (2*a)\");"
   ]
  },
  {
   "cell_type": "markdown",
   "id": "23fc2ee1-4a71-494a-a343-d24c36a43378",
   "metadata": {},
   "source": [
    "<br>"
   ]
  },
  {
   "cell_type": "code",
   "execution_count": 22,
   "id": "42250db8-3083-4cd2-ab1f-caa7515a019c",
   "metadata": {
    "tags": []
   },
   "outputs": [],
   "source": [
    "import numba as nb\n",
    "\n",
    "@nb.vectorize\n",
    "def numba_quadratic_formula(a, b, c):\n",
    "    return (-b + np.sqrt(b**2 - 4*a*c)) / (2*a)\n",
    "\n",
    "numba_quadratic_formula(a, b, c);"
   ]
  },
  {
   "cell_type": "markdown",
   "id": "78fc4bee-821e-4c2b-be71-dacf292e918b",
   "metadata": {},
   "source": [
    "<br>"
   ]
  },
  {
   "cell_type": "code",
   "execution_count": 23,
   "id": "09904bab-a042-417d-a137-5c7cfbfaab3c",
   "metadata": {
    "slideshow": {
     "slide_type": "slide"
    },
    "tags": []
   },
   "outputs": [
    {
     "name": "stdout",
     "output_type": "stream",
     "text": [
      "2.55 ms ± 71.2 µs per loop (mean ± std. dev. of 7 runs, 100 loops each)\n"
     ]
    }
   ],
   "source": [
    "%%timeit\n",
    "quadratic_formula(a, b, c)         # NumPy (loop over data for each operation... mostly)"
   ]
  },
  {
   "cell_type": "markdown",
   "id": "a9fe1a8c-4f66-48c9-b08d-5655f8cb5612",
   "metadata": {},
   "source": [
    "<br>"
   ]
  },
  {
   "cell_type": "code",
   "execution_count": 24,
   "id": "aadbaafe-0264-4852-b7a4-2d21b080cd44",
   "metadata": {
    "tags": []
   },
   "outputs": [
    {
     "name": "stdout",
     "output_type": "stream",
     "text": [
      "800 µs ± 17 µs per loop (mean ± std. dev. of 7 runs, 1,000 loops each)\n"
     ]
    }
   ],
   "source": [
    "%%timeit\n",
    "ne.re_evaluate()                   # NumExpr (fast virtual machine)"
   ]
  },
  {
   "cell_type": "markdown",
   "id": "320c2204-29c1-47dd-b20e-e2783726aea1",
   "metadata": {},
   "source": [
    "<br>"
   ]
  },
  {
   "cell_type": "code",
   "execution_count": 25,
   "id": "e62af063-99e9-4fba-8228-c92690858e6e",
   "metadata": {
    "tags": []
   },
   "outputs": [
    {
     "name": "stdout",
     "output_type": "stream",
     "text": [
      "1.09 ms ± 81.7 µs per loop (mean ± std. dev. of 7 runs, 1,000 loops each)\n"
     ]
    }
   ],
   "source": [
    "%%timeit\n",
    "numba_quadratic_formula(a, b, c)   # Numba (compiles with LLVM)"
   ]
  },
  {
   "cell_type": "markdown",
   "id": "f6796f02-3e15-490d-860e-d105e3f44655",
   "metadata": {},
   "source": [
    "<br>"
   ]
  },
  {
   "cell_type": "markdown",
   "id": "2405977e-8b8b-4458-b0f5-cbd6b75d9d27",
   "metadata": {
    "slideshow": {
     "slide_type": "slide"
    },
    "tags": []
   },
   "source": [
    "Compiling Python or binding compiled code to Python is an open field, without a clearly dominant solution."
   ]
  },
  {
   "cell_type": "markdown",
   "id": "109a53f7-85bd-4510-b68b-69d95eb06691",
   "metadata": {},
   "source": [
    "<img src=\"../img/history-of-bindings-2.svg\" width=\"100%\">"
   ]
  },
  {
   "cell_type": "markdown",
   "id": "3c55b4e8-41a7-42f6-b2f9-0378744dd0f9",
   "metadata": {
    "slideshow": {
     "slide_type": "slide"
    },
    "tags": []
   },
   "source": [
    "### Expressibility in NumPy"
   ]
  },
  {
   "cell_type": "markdown",
   "id": "87e979bf-fb4f-4dfd-9b98-4f6c525a9fe4",
   "metadata": {},
   "source": [
    "The amazing thing is that we can express so much by piecing together precompiled routines.\n",
    "\n",
    "Combine\n",
    "\n",
    "  * elementwise operations (\"ufuncs\")\n",
    "  * broadcasting\n",
    "  * basic and advanced slicing\n",
    "  * slice-assignment\n",
    "  * reshaping\n",
    "  * reducers\n",
    "  * specialized functions\n",
    "\n",
    "to do great things!"
   ]
  },
  {
   "cell_type": "markdown",
   "id": "216f0888-acf8-4a15-ae09-ef7bee0df604",
   "metadata": {
    "slideshow": {
     "slide_type": "slide"
    },
    "tags": []
   },
   "source": [
    "**Example:** Compute the size of the spaces between consecutive elements."
   ]
  },
  {
   "cell_type": "code",
   "execution_count": 26,
   "id": "336586b5-114d-4280-8f02-c8b333d2ddab",
   "metadata": {
    "tags": []
   },
   "outputs": [
    {
     "data": {
      "text/plain": [
       "array([1.1, 2.2, 3.3, 4.4, 5.5, 6.6, 7.7, 8.8, 9.9])"
      ]
     },
     "execution_count": 26,
     "metadata": {},
     "output_type": "execute_result"
    }
   ],
   "source": [
    "array = np.array([1.1, 2.2, 3.3, 4.4, 5.5, 6.6, 7.7, 8.8, 9.9])\n",
    "array"
   ]
  },
  {
   "cell_type": "markdown",
   "id": "0e836999-c085-47c4-892e-be379209b8b9",
   "metadata": {},
   "source": [
    "<br><br><br>"
   ]
  },
  {
   "cell_type": "code",
   "execution_count": 27,
   "id": "6debb143-a089-463c-8ba1-fb5317855460",
   "metadata": {
    "slideshow": {
     "slide_type": "fragment"
    },
    "tags": []
   },
   "outputs": [
    {
     "data": {
      "text/plain": [
       "array([1.1, 1.1, 1.1, 1.1, 1.1, 1.1, 1.1, 1.1])"
      ]
     },
     "execution_count": 27,
     "metadata": {},
     "output_type": "execute_result"
    }
   ],
   "source": [
    "array[1:] - array[:-1]"
   ]
  },
  {
   "cell_type": "markdown",
   "id": "ebe58bc7-9263-4197-b951-e0683224bce0",
   "metadata": {
    "slideshow": {
     "slide_type": "slide"
    },
    "tags": []
   },
   "source": [
    "<center>\n",
    "<img src=\"../img/flat-operation.svg\" width=\"70%\">\n",
    "</center>"
   ]
  },
  {
   "cell_type": "markdown",
   "id": "a05f3f9f-9b87-4967-9f53-7c9a1c6c88b0",
   "metadata": {
    "slideshow": {
     "slide_type": "slide"
    },
    "tags": []
   },
   "source": [
    "<center>\n",
    "<img src=\"../img/shifted-operation.svg\" width=\"70%\">\n",
    "</center>"
   ]
  },
  {
   "cell_type": "markdown",
   "id": "cd56969c-5465-4ce9-adda-38aeb100ca26",
   "metadata": {
    "slideshow": {
     "slide_type": "slide"
    },
    "tags": []
   },
   "source": [
    "**Quizlet:** Compute the length of the curve sampled by arrays `x` and `y`."
   ]
  },
  {
   "cell_type": "code",
   "execution_count": 28,
   "id": "8d7638b1-7a77-4d02-a784-a6cb33be75d8",
   "metadata": {
    "tags": []
   },
   "outputs": [],
   "source": [
    "t = np.linspace(0, 2*np.pi, 10000)\n",
    "x = np.sin(3*t)\n",
    "y = np.sin(4*t)"
   ]
  },
  {
   "cell_type": "markdown",
   "id": "e0fc26bb-879e-42c6-a4d7-96b31758e975",
   "metadata": {},
   "source": [
    "<br>\n",
    "\n",
    "<center>\n",
    "<img src=\"../img/length-by-segment.svg\" width=\"55%\">\n",
    "</center>\n",
    "\n",
    "<br>"
   ]
  },
  {
   "cell_type": "code",
   "execution_count": 29,
   "id": "cd416dc4-acad-486d-ae17-54c2870ca9b8",
   "metadata": {
    "tags": []
   },
   "outputs": [],
   "source": [
    "import matplotlib.pyplot as plt"
   ]
  },
  {
   "cell_type": "code",
   "execution_count": 30,
   "id": "2a126187-a462-4920-a625-6e6479f36b56",
   "metadata": {
    "slideshow": {
     "slide_type": "slide"
    },
    "tags": []
   },
   "outputs": [
    {
     "data": {
      "image/png": "[encoded data removed]",
      "text/plain": [
       "<Figure size 640x480 with 1 Axes>"
      ]
     },
     "metadata": {},
     "output_type": "display_data"
    }
   ],
   "source": [
    "plt.plot(x, y);"
   ]
  },
  {
   "cell_type": "markdown",
   "id": "74a1c5d8-576d-4252-bfdf-60cbfefde52f",
   "metadata": {
    "slideshow": {
     "slide_type": "slide"
    },
    "tags": []
   },
   "source": [
    "**Answer:**"
   ]
  },
  {
   "cell_type": "code",
   "execution_count": 31,
   "id": "679d905c-788e-4d35-9cd2-b93245b3f8c5",
   "metadata": {
    "tags": []
   },
   "outputs": [
    {
     "data": {
      "text/plain": [
       "np.float64(21.237210568991465)"
      ]
     },
     "execution_count": 31,
     "metadata": {},
     "output_type": "execute_result"
    }
   ],
   "source": [
    "np.sum(np.sqrt((x[1:] - x[:-1])**2 + (y[1:] - y[:-1])**2))"
   ]
  },
  {
   "cell_type": "markdown",
   "id": "dabf0a01-a9d8-4689-beb5-44074f4f3557",
   "metadata": {
    "slideshow": {
     "slide_type": "slide"
    },
    "tags": []
   },
   "source": [
    "**Example:** Big-endian to little-endian conversion.\n",
    "\n",
    "(Note: `view` and `reshape` do not change the array data, only its interpretation.)"
   ]
  },
  {
   "cell_type": "code",
   "execution_count": 32,
   "id": "d700f2c7-4a4d-4967-aad4-82b740829d4d",
   "metadata": {
    "tags": []
   },
   "outputs": [
    {
     "data": {
      "text/plain": [
       "array([-1.54234871e-180, -1.54234871e-180,  1.90359857e+185,\n",
       "       -1.54234871e-180,  2.81419792e-320])"
      ]
     },
     "execution_count": 32,
     "metadata": {},
     "output_type": "execute_result"
    }
   ],
   "source": [
    "big_endian = np.array([1.1, 2.2, 3.3, 4.4, 5.5], dtype=\">f8\") # modern machines use little-endian\n",
    "wrong_endianness = big_endian.view(np.float64)\n",
    "wrong_endianness"
   ]
  },
  {
   "cell_type": "code",
   "execution_count": null,
   "id": "20960951-abfd-41a1-be0d-6ca70995db7c",
   "metadata": {
    "slideshow": {
     "slide_type": "fragment"
    },
    "tags": []
   },
   "outputs": [
    {
     "data": {
      "text/plain": [
       "array([ 63, 241, 153, 153, 153, 153, 153, 154,  64,   1, 153, 153, 153,\n",
       "       153, 153, 154,  64,  10, 102, 102, 102, 102, 102, 102,  64,  17,\n",
       "       153, 153, 153, 153, 153, 154,  64,  22,   0,   0,   0,   0,   0,\n",
       "         0], dtype=uint8)"
      ]
     },
     "execution_count": 33,
     "metadata": {},
     "output_type": "execute_result"
    }
   ],
   "source": [
    "# to see the bytes as integers (0-255)\n",
    "raw_bytes = wrong_endianness.view(np.uint8)\n",
    "raw_bytes"
   ]
  },
  {
   "cell_type": "code",
   "execution_count": 34,
   "id": "ee33fad0-629f-4ec2-b054-63928d928da2",
   "metadata": {
    "slideshow": {
     "slide_type": "fragment"
    },
    "tags": []
   },
   "outputs": [
    {
     "data": {
      "text/plain": [
       "array([[ 63, 241, 153, 153, 153, 153, 153, 154],\n",
       "       [ 64,   1, 153, 153, 153, 153, 153, 154],\n",
       "       [ 64,  10, 102, 102, 102, 102, 102, 102],\n",
       "       [ 64,  17, 153, 153, 153, 153, 153, 154],\n",
       "       [ 64,  22,   0,   0,   0,   0,   0,   0]], dtype=uint8)"
      ]
     },
     "execution_count": 34,
     "metadata": {},
     "output_type": "execute_result"
    }
   ],
   "source": [
    "grouped = raw_bytes.reshape(len(raw_bytes) // 8, 8)\n",
    "grouped"
   ]
  },
  {
   "cell_type": "markdown",
   "id": "f06aa8f4-9f66-4fde-9742-3d72aceaf684",
   "metadata": {
    "slideshow": {
     "slide_type": "slide"
    },
    "tags": []
   },
   "source": [
    "Note: `:` is a full slice (changing nothing) and `::-1` reverses a dimension (`step == -1`)."
   ]
  },
  {
   "cell_type": "code",
   "execution_count": 35,
   "id": "f341d506-f47a-431c-ba4b-97e78b7b2c25",
   "metadata": {
    "tags": []
   },
   "outputs": [
    {
     "data": {
      "text/plain": [
       "array([[154, 153, 153, 153, 153, 153, 241,  63],\n",
       "       [154, 153, 153, 153, 153, 153,   1,  64],\n",
       "       [102, 102, 102, 102, 102, 102,  10,  64],\n",
       "       [154, 153, 153, 153, 153, 153,  17,  64],\n",
       "       [  0,   0,   0,   0,   0,   0,  22,  64]], dtype=uint8)"
      ]
     },
     "execution_count": 35,
     "metadata": {},
     "output_type": "execute_result"
    }
   ],
   "source": [
    "reversed_grouped = grouped[:, ::-1]\n",
    "reversed_grouped"
   ]
  },
  {
   "cell_type": "code",
   "execution_count": 36,
   "id": "ec09ee6c-d574-41e1-9142-7ef8042cfb00",
   "metadata": {
    "slideshow": {
     "slide_type": "fragment"
    },
    "tags": []
   },
   "outputs": [
    {
     "data": {
      "text/plain": [
       "array([154, 153, 153, 153, 153, 153, 241,  63, 154, 153, 153, 153, 153,\n",
       "       153,   1,  64, 102, 102, 102, 102, 102, 102,  10,  64, 154, 153,\n",
       "       153, 153, 153, 153,  17,  64,   0,   0,   0,   0,   0,   0,  22,\n",
       "        64], dtype=uint8)"
      ]
     },
     "execution_count": 36,
     "metadata": {},
     "output_type": "execute_result"
    }
   ],
   "source": [
    "flattened = reversed_grouped.reshape(len(raw_bytes))\n",
    "flattened"
   ]
  },
  {
   "cell_type": "code",
   "execution_count": 37,
   "id": "80c94020-e570-4c3b-a7e9-3bd243b6e226",
   "metadata": {
    "slideshow": {
     "slide_type": "fragment"
    },
    "tags": []
   },
   "outputs": [
    {
     "data": {
      "text/plain": [
       "array([1.1, 2.2, 3.3, 4.4, 5.5])"
      ]
     },
     "execution_count": 37,
     "metadata": {},
     "output_type": "execute_result"
    }
   ],
   "source": [
    "flattened.view(wrong_endianness.dtype)"
   ]
  },
  {
   "cell_type": "markdown",
   "id": "e2ef1f88-6002-4df9-a2b4-001958e1f35c",
   "metadata": {
    "slideshow": {
     "slide_type": "slide"
    },
    "tags": []
   },
   "source": [
    "**Quizlet:** Downsample this curve to make it less noisy."
   ]
  },
  {
   "cell_type": "code",
   "execution_count": 38,
   "id": "646d9d6a-5af4-410a-bb1a-b597207cf98f",
   "metadata": {
    "tags": []
   },
   "outputs": [],
   "source": [
    "noisy_data = np.sin(np.linspace(0, 2*np.pi, 1000)) + np.random.normal(0, 0.5, 1000)"
   ]
  },
  {
   "cell_type": "markdown",
   "id": "c107bfcc-0db9-4426-bc22-e51de436bf7e",
   "metadata": {},
   "source": [
    "<br>\n",
    "\n",
    "That is, replace every 10 consecutive array elements with their average value, reducing the number of array elements from 1000 to 100, but representing the same curve (ranging from ‒1 to 1)."
   ]
  },
  {
   "cell_type": "markdown",
   "id": "ebce6088-1c37-4327-aaaa-fb4ef9a02cc5",
   "metadata": {
    "slideshow": {
     "slide_type": "fragment"
    },
    "tags": []
   },
   "source": [
    "Note: this is how `axis` works for reducers.\n",
    "\n",
    "<center>\n",
    "<img src=\"../img/example-reducer-2d.svg\" width=\"40%\">\n",
    "</center>"
   ]
  },
  {
   "cell_type": "code",
   "execution_count": 39,
   "id": "305b9e6d-22da-45ba-96b1-3093c69aedba",
   "metadata": {
    "slideshow": {
     "slide_type": "slide"
    },
    "tags": []
   },
   "outputs": [
    {
     "data": {
      "image/png": "[encoded data removed]",
      "text/plain": [
       "<Figure size 640x480 with 1 Axes>"
      ]
     },
     "metadata": {},
     "output_type": "display_data"
    }
   ],
   "source": [
    "plt.plot(noisy_data);"
   ]
  },
  {
   "cell_type": "markdown",
   "id": "c85a5351-864b-4e43-98de-535beba12534",
   "metadata": {
    "slideshow": {
     "slide_type": "slide"
    },
    "tags": []
   },
   "source": [
    "**Answer:**"
   ]
  },
  {
   "cell_type": "code",
   "execution_count": 40,
   "id": "02031603-db3b-45ae-9726-027e5f504468",
   "metadata": {
    "tags": []
   },
   "outputs": [
    {
     "data": {
      "image/png": "[encoded data removed]",
      "text/plain": [
       "<Figure size 640x480 with 1 Axes>"
      ]
     },
     "metadata": {},
     "output_type": "display_data"
    }
   ],
   "source": [
    "# group in 10s\n",
    "reshaped_noisy_data = noisy_data.reshape(len(noisy_data) // 10, 10)\n",
    "# and average\n",
    "downsampled = np.mean(reshaped_noisy_data, axis=1)\n",
    "plt.plot(downsampled);"
   ]
  }
 ],
 "metadata": {
  "kernelspec": {
   "display_name": "auth-tutorial-columnar-HEP",
   "language": "python",
   "name": "python3"
  },
  "language_info": {
   "codemirror_mode": {
    "name": "ipython",
    "version": 3
   },
   "file_extension": ".py",
   "mimetype": "text/x-python",
   "name": "python",
   "nbconvert_exporter": "python",
   "pygments_lexer": "ipython3",
   "version": "3.9.22"
  }
 },
 "nbformat": 4,
 "nbformat_minor": 5
}
